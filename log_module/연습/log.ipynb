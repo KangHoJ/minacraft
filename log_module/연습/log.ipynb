{
 "cells": [
  {
   "cell_type": "markdown",
   "metadata": {},
   "source": [
    "# 로그분석"
   ]
  },
  {
   "cell_type": "markdown",
   "metadata": {},
   "source": [
    "## DATA import"
   ]
  },
  {
   "cell_type": "code",
   "execution_count": 358,
   "metadata": {},
   "outputs": [
    {
     "data": {
      "text/html": [
       "<div>\n",
       "<style scoped>\n",
       "    .dataframe tbody tr th:only-of-type {\n",
       "        vertical-align: middle;\n",
       "    }\n",
       "\n",
       "    .dataframe tbody tr th {\n",
       "        vertical-align: top;\n",
       "    }\n",
       "\n",
       "    .dataframe thead th {\n",
       "        text-align: right;\n",
       "    }\n",
       "</style>\n",
       "<table border=\"1\" class=\"dataframe\">\n",
       "  <thead>\n",
       "    <tr style=\"text-align: right;\">\n",
       "      <th></th>\n",
       "      <th>Timestamp</th>\n",
       "      <th>Message</th>\n",
       "    </tr>\n",
       "  </thead>\n",
       "  <tbody>\n",
       "    <tr>\n",
       "      <th>0</th>\n",
       "      <td>08:11:19</td>\n",
       "      <td>You specified a resource pack without providing a sha1 hash. Pack will be updated on the client only if you change the name of the pack.</td>\n",
       "    </tr>\n",
       "    <tr>\n",
       "      <th>1</th>\n",
       "      <td>08:11:20</td>\n",
       "      <td>Environment: Environment[accountsHost=https://api.mojang.com, sessionHost=https://sessionserver.mojang.com, servicesHost=https://api.minecraftservices.com, name=PROD]</td>\n",
       "    </tr>\n",
       "    <tr>\n",
       "      <th>2</th>\n",
       "      <td>08:11:23</td>\n",
       "      <td>Loaded 1174 recipes</td>\n",
       "    </tr>\n",
       "    <tr>\n",
       "      <th>3</th>\n",
       "      <td>08:11:24</td>\n",
       "      <td>Loaded 1271 advancements</td>\n",
       "    </tr>\n",
       "    <tr>\n",
       "      <th>4</th>\n",
       "      <td>08:11:24</td>\n",
       "      <td>Starting minecraft server version 1.20.2</td>\n",
       "    </tr>\n",
       "    <tr>\n",
       "      <th>...</th>\n",
       "      <td>...</td>\n",
       "      <td>...</td>\n",
       "    </tr>\n",
       "    <tr>\n",
       "      <th>44334</th>\n",
       "      <td>03:55:07</td>\n",
       "      <td>ThreadedAnvilChunkStorage (DIM1): All chunks are saved</td>\n",
       "    </tr>\n",
       "    <tr>\n",
       "      <th>44335</th>\n",
       "      <td>03:55:07</td>\n",
       "      <td>ThreadedAnvilChunkStorage: All dimensions are saved</td>\n",
       "    </tr>\n",
       "    <tr>\n",
       "      <th>44336</th>\n",
       "      <td>03:55:07</td>\n",
       "      <td>Flushing Chunk IO</td>\n",
       "    </tr>\n",
       "    <tr>\n",
       "      <th>44337</th>\n",
       "      <td>03:55:07</td>\n",
       "      <td>Closing Thread Pool</td>\n",
       "    </tr>\n",
       "    <tr>\n",
       "      <th>44338</th>\n",
       "      <td>03:55:07</td>\n",
       "      <td>Closing Server</td>\n",
       "    </tr>\n",
       "  </tbody>\n",
       "</table>\n",
       "<p>41129 rows × 2 columns</p>\n",
       "</div>"
      ],
      "text/plain": [
       "      Timestamp  \\\n",
       "0      08:11:19   \n",
       "1      08:11:20   \n",
       "2      08:11:23   \n",
       "3      08:11:24   \n",
       "4      08:11:24   \n",
       "...         ...   \n",
       "44334  03:55:07   \n",
       "44335  03:55:07   \n",
       "44336  03:55:07   \n",
       "44337  03:55:07   \n",
       "44338  03:55:07   \n",
       "\n",
       "                                                                                                                                                                      Message  \n",
       "0                                    You specified a resource pack without providing a sha1 hash. Pack will be updated on the client only if you change the name of the pack.  \n",
       "1      Environment: Environment[accountsHost=https://api.mojang.com, sessionHost=https://sessionserver.mojang.com, servicesHost=https://api.minecraftservices.com, name=PROD]  \n",
       "2                                                                                                                                                         Loaded 1174 recipes  \n",
       "3                                                                                                                                                    Loaded 1271 advancements  \n",
       "4                                                                                                                                    Starting minecraft server version 1.20.2  \n",
       "...                                                                                                                                                                       ...  \n",
       "44334                                                                                                                  ThreadedAnvilChunkStorage (DIM1): All chunks are saved  \n",
       "44335                                                                                                                     ThreadedAnvilChunkStorage: All dimensions are saved  \n",
       "44336                                                                                                                                                       Flushing Chunk IO  \n",
       "44337                                                                                                                                                     Closing Thread Pool  \n",
       "44338                                                                                                                                                          Closing Server  \n",
       "\n",
       "[41129 rows x 2 columns]"
      ]
     },
     "execution_count": 358,
     "metadata": {},
     "output_type": "execute_result"
    }
   ],
   "source": [
    "import glob\n",
    "import gzip\n",
    "import re\n",
    "import pandas as pd\n",
    "import matplotlib.pyplot as plt\n",
    "import seaborn as sns\n",
    "from collections import Counter\n",
    "import mysql.connector\n",
    "plt.rcParams['font.family'] = 'NanumGothic'\n",
    "pd.set_option('display.max.colwidth', 1000)\n",
    "\n",
    "pattern = r\"\\[(.*?)\\] \\[(.*?)\\]: (.*)\"\n",
    "file_list = glob.glob('log/*.gz')\n",
    "data = []\n",
    "for file in file_list:\n",
    "    with gzip.open(file, 'rb') as f:\n",
    "        log_data = f.read().decode('utf-8')\n",
    "        groups = re.findall(pattern, log_data)\n",
    "        for group in groups:\n",
    "            data.append(group)\n",
    "\n",
    "db = # 정보\n",
    "cursor = db.cursor()\n",
    "query = 'SELECT name FROM player_info_view'\n",
    "cursor.execute(query)\n",
    "rows = cursor.fetchall()\n",
    "user_df = pd.DataFrame(rows, columns=['Username'])\n",
    "lst = list(user_df['Username'].values)\n",
    "        \n",
    "df = pd.DataFrame(data, columns=['Timestamp', 'Level', 'Message'])\n",
    "df = df[~df['Message'].str.contains('청소')] # 청소 관련 처리 \n",
    "dd = df[['Timestamp','Message']]\n",
    "dd"
   ]
  },
  {
   "cell_type": "markdown",
   "metadata": {},
   "source": [
    "## 접속 분석"
   ]
  },
  {
   "cell_type": "code",
   "execution_count": 359,
   "metadata": {},
   "outputs": [
    {
     "data": {
      "text/plain": [
       "Message\n",
       "[+]  [뉴비] kjs04               62\n",
       "[+]  [뉴비] taegyu08            38\n",
       "[+]  kjs04 님이 서버에 접속했습니다 !    36\n",
       "[+]  Elvaaaaaaaa              33\n",
       "[+]  [뉴비] KDG_04              31\n",
       "                              ..\n",
       "[+]  yebibibibibib             1\n",
       "[+]  msnxxo                    1\n",
       "[+]  mno8901                   1\n",
       "[+]  ktshkt2820                1\n",
       "[+]  Min___E                   1\n",
       "Name: count, Length: 205, dtype: int64"
      ]
     },
     "execution_count": 359,
     "metadata": {},
     "output_type": "execute_result"
    }
   ],
   "source": [
    "df[df['Message'].str.contains('[+]')]['Message'].value_counts()"
   ]
  },
  {
   "cell_type": "markdown",
   "metadata": {},
   "source": [
    "### 가장 많이 접속한 유저"
   ]
  },
  {
   "cell_type": "code",
   "execution_count": 360,
   "metadata": {},
   "outputs": [
    {
     "data": {
      "text/plain": [
       "['02tu', '0c0samoo', '12321', '1hxojxn', '1qa8z76']"
      ]
     },
     "execution_count": 360,
     "metadata": {},
     "output_type": "execute_result"
    }
   ],
   "source": [
    "lst[0:5]"
   ]
  },
  {
   "cell_type": "code",
   "execution_count": 361,
   "metadata": {},
   "outputs": [
    {
     "data": {
      "text/html": [
       "<div>\n",
       "<style scoped>\n",
       "    .dataframe tbody tr th:only-of-type {\n",
       "        vertical-align: middle;\n",
       "    }\n",
       "\n",
       "    .dataframe tbody tr th {\n",
       "        vertical-align: top;\n",
       "    }\n",
       "\n",
       "    .dataframe thead th {\n",
       "        text-align: right;\n",
       "    }\n",
       "</style>\n",
       "<table border=\"1\" class=\"dataframe\">\n",
       "  <thead>\n",
       "    <tr style=\"text-align: right;\">\n",
       "      <th></th>\n",
       "      <th>Timestamp</th>\n",
       "      <th>Message</th>\n",
       "    </tr>\n",
       "  </thead>\n",
       "  <tbody>\n",
       "    <tr>\n",
       "      <th>3351</th>\n",
       "      <td>09:34:50</td>\n",
       "      <td>[+]  kjs04 님이 서버에 접속했습니다 !</td>\n",
       "    </tr>\n",
       "    <tr>\n",
       "      <th>3372</th>\n",
       "      <td>10:01:35</td>\n",
       "      <td>[+]  kjs04 님이 서버에 접속했습니다 !</td>\n",
       "    </tr>\n",
       "    <tr>\n",
       "      <th>3378</th>\n",
       "      <td>10:07:30</td>\n",
       "      <td>[+]  kjs04 님이 서버에 접속했습니다 !</td>\n",
       "    </tr>\n",
       "    <tr>\n",
       "      <th>3445</th>\n",
       "      <td>11:04:29</td>\n",
       "      <td>[+]  kjs04 님이 서버에 접속했습니다 !</td>\n",
       "    </tr>\n",
       "    <tr>\n",
       "      <th>3676</th>\n",
       "      <td>12:44:00</td>\n",
       "      <td>[+]  kjs04 님이 서버에 접속했습니다 !</td>\n",
       "    </tr>\n",
       "    <tr>\n",
       "      <th>...</th>\n",
       "      <td>...</td>\n",
       "      <td>...</td>\n",
       "    </tr>\n",
       "    <tr>\n",
       "      <th>37528</th>\n",
       "      <td>23:27:43</td>\n",
       "      <td>[+]  [뉴비] kjs04</td>\n",
       "    </tr>\n",
       "    <tr>\n",
       "      <th>39310</th>\n",
       "      <td>16:15:38</td>\n",
       "      <td>[+]  [뉴비] kjs04</td>\n",
       "    </tr>\n",
       "    <tr>\n",
       "      <th>39625</th>\n",
       "      <td>23:10:14</td>\n",
       "      <td>[+]  [뉴비] kjs04</td>\n",
       "    </tr>\n",
       "    <tr>\n",
       "      <th>39639</th>\n",
       "      <td>00:45:23</td>\n",
       "      <td>[+]  [뉴비] kjs04</td>\n",
       "    </tr>\n",
       "    <tr>\n",
       "      <th>39650</th>\n",
       "      <td>01:05:15</td>\n",
       "      <td>[+]  [뉴비] kjs04</td>\n",
       "    </tr>\n",
       "  </tbody>\n",
       "</table>\n",
       "<p>102 rows × 2 columns</p>\n",
       "</div>"
      ],
      "text/plain": [
       "      Timestamp                           Message\n",
       "3351   09:34:50        [+]  kjs04 님이 서버에 접속했습니다 !\n",
       "3372   10:01:35        [+]  kjs04 님이 서버에 접속했습니다 !\n",
       "3378   10:07:30        [+]  kjs04 님이 서버에 접속했습니다 !\n",
       "3445   11:04:29        [+]  kjs04 님이 서버에 접속했습니다 !\n",
       "3676   12:44:00        [+]  kjs04 님이 서버에 접속했습니다 !\n",
       "...         ...                               ...\n",
       "37528  23:27:43                   [+]  [뉴비] kjs04\n",
       "39310  16:15:38                   [+]  [뉴비] kjs04\n",
       "39625  23:10:14                   [+]  [뉴비] kjs04\n",
       "39639  00:45:23                   [+]  [뉴비] kjs04\n",
       "39650  01:05:15                   [+]  [뉴비] kjs04\n",
       "\n",
       "[102 rows x 2 columns]"
      ]
     },
     "execution_count": 361,
     "metadata": {},
     "output_type": "execute_result"
    }
   ],
   "source": [
    "dd[(dd['Message'].str.contains('\\[\\+\\].*kjs04.*'))]\n"
   ]
  },
  {
   "cell_type": "code",
   "execution_count": 411,
   "metadata": {},
   "outputs": [
    {
     "data": {
      "text/html": [
       "<div>\n",
       "<style scoped>\n",
       "    .dataframe tbody tr th:only-of-type {\n",
       "        vertical-align: middle;\n",
       "    }\n",
       "\n",
       "    .dataframe tbody tr th {\n",
       "        vertical-align: top;\n",
       "    }\n",
       "\n",
       "    .dataframe thead th {\n",
       "        text-align: right;\n",
       "    }\n",
       "</style>\n",
       "<table border=\"1\" class=\"dataframe\">\n",
       "  <thead>\n",
       "    <tr style=\"text-align: right;\">\n",
       "      <th></th>\n",
       "      <th>Timestamp</th>\n",
       "      <th>Message</th>\n",
       "      <th>Seconds</th>\n",
       "    </tr>\n",
       "  </thead>\n",
       "  <tbody>\n",
       "    <tr>\n",
       "      <th>0</th>\n",
       "      <td>12:56:08</td>\n",
       "      <td>[-]  [뉴비]kjs04</td>\n",
       "      <td>46568</td>\n",
       "    </tr>\n",
       "    <tr>\n",
       "      <th>1</th>\n",
       "      <td>12:56:17</td>\n",
       "      <td>[+]  [뉴비]kjs04</td>\n",
       "      <td>46577</td>\n",
       "    </tr>\n",
       "    <tr>\n",
       "      <th>2</th>\n",
       "      <td>12:56:30</td>\n",
       "      <td>[-]  ◎OP◎Loitec1114</td>\n",
       "      <td>46590</td>\n",
       "    </tr>\n",
       "    <tr>\n",
       "      <th>3</th>\n",
       "      <td>12:56:41</td>\n",
       "      <td>[+]  ◎OP◎Loitec1114</td>\n",
       "      <td>46601</td>\n",
       "    </tr>\n",
       "    <tr>\n",
       "      <th>4</th>\n",
       "      <td>12:57:48</td>\n",
       "      <td>[-]  [뉴비]kjs04</td>\n",
       "      <td>46668</td>\n",
       "    </tr>\n",
       "    <tr>\n",
       "      <th>...</th>\n",
       "      <td>...</td>\n",
       "      <td>...</td>\n",
       "      <td>...</td>\n",
       "    </tr>\n",
       "    <tr>\n",
       "      <th>898</th>\n",
       "      <td>00:47:50</td>\n",
       "      <td>[-]  [뉴비] kjs04</td>\n",
       "      <td>89270</td>\n",
       "    </tr>\n",
       "    <tr>\n",
       "      <th>899</th>\n",
       "      <td>01:05:15</td>\n",
       "      <td>[+]  [뉴비] kjs04</td>\n",
       "      <td>90315</td>\n",
       "    </tr>\n",
       "    <tr>\n",
       "      <th>900</th>\n",
       "      <td>01:05:49</td>\n",
       "      <td>[+]  [뉴비] KDG_04</td>\n",
       "      <td>90349</td>\n",
       "    </tr>\n",
       "    <tr>\n",
       "      <th>901</th>\n",
       "      <td>01:41:36</td>\n",
       "      <td>[-]  [뉴비] kjs04</td>\n",
       "      <td>92496</td>\n",
       "    </tr>\n",
       "    <tr>\n",
       "      <th>902</th>\n",
       "      <td>01:48:46</td>\n",
       "      <td>[-]  [뉴비] KDG_04</td>\n",
       "      <td>92926</td>\n",
       "    </tr>\n",
       "  </tbody>\n",
       "</table>\n",
       "<p>903 rows × 3 columns</p>\n",
       "</div>"
      ],
      "text/plain": [
       "    Timestamp                    Message  Seconds\n",
       "0    12:56:08             [-]  [뉴비]kjs04    46568\n",
       "1    12:56:17             [+]  [뉴비]kjs04    46577\n",
       "2    12:56:30        [-]  ◎OP◎Loitec1114    46590\n",
       "3    12:56:41        [+]  ◎OP◎Loitec1114    46601\n",
       "4    12:57:48             [-]  [뉴비]kjs04    46668\n",
       "..        ...                        ...      ...\n",
       "898  00:47:50            [-]  [뉴비] kjs04    89270\n",
       "899  01:05:15            [+]  [뉴비] kjs04    90315\n",
       "900  01:05:49           [+]  [뉴비] KDG_04    90349\n",
       "901  01:41:36            [-]  [뉴비] kjs04    92496\n",
       "902  01:48:46           [-]  [뉴비] KDG_04    92926\n",
       "\n",
       "[903 rows x 3 columns]"
      ]
     },
     "execution_count": 411,
     "metadata": {},
     "output_type": "execute_result"
    }
   ],
   "source": [
    "import datetime\n",
    "def convert_to_seconds(timestamp):\n",
    "    time_obj = datetime.datetime.strptime(timestamp, '%H:%M:%S')\n",
    "    seconds = time_obj.hour * 3600 + time_obj.minute * 60 + time_obj.second\n",
    "    # 새벽 시간 (00:00:00 ~ 06:00:00) 처리\n",
    "    if time_obj.hour < 6:\n",
    "        seconds += 86400\n",
    "    return seconds\n",
    "\n",
    "d_login = dd[(dd['Message'].str.contains('\\[\\+\\].*')) | (dd['Message'].str.contains('\\[\\-\\].*'))]\n",
    "d_login = d_login[~d_login['Message'].str.contains('님이')].reset_index().drop(['index'],axis=1)\n",
    "d_login['Seconds'] = d_login['Timestamp'].apply(convert_to_seconds)\n",
    "d_login"
   ]
  },
  {
   "cell_type": "code",
   "execution_count": 363,
   "metadata": {},
   "outputs": [
    {
     "data": {
      "text/plain": [
       "['02tu', '0c0samoo', '12321', '1hxojxn', '1qa8z76']"
      ]
     },
     "execution_count": 363,
     "metadata": {},
     "output_type": "execute_result"
    }
   ],
   "source": [
    "lst[0:5]"
   ]
  },
  {
   "cell_type": "code",
   "execution_count": 365,
   "metadata": {},
   "outputs": [
    {
     "name": "stdout",
     "output_type": "stream",
     "text": [
      "{'02tu': 309, '0c0samoo': 8799, '12321': 0, '1hxojxn': 124, '1qa8z76': 93, '21singularity': 69, '5sYeon': 464, '6gaejang_22': 3682, 'akosih44': 2066, 'anaud12': 553, 'angryjin': 231, 'Anung_': 973, 'apple_kor': 4117, 'arang': 0, 'Arangcho': -82264, 'bangbong0': 14, 'biracksickhye': 71980, 'blackggami': 0, 'black_789': 56, 'BOKUNOFULLMOON': 3732, 'Carus0402': 0, 'celaduck': -80182, 'chans0504': 59, 'Chkida': 556, 'chlghtjd': 880, 'choiyj120730': 0, 'ChoonSik_2': 0, 'chuzzang': -87415, 'Ckum_': 247, 'clobby_1': 0, 'cn22e': 722, 'Croias': 632, 'cross_fie1d': 207, 'cubids': 0, 'danmak534': 45, 'Darkiran': 2851, 'dddd': 0, 'dddd1231': 0, 'Ddonghuhu': 0, 'dektembuel': 0, 'dkfkqldkdnjsxnf': 0, 'dkwhwTl': 0, 'dlehgud1128': 2, 'dnsuak2222': 0, 'Dohori': 8837, 'Dovep': 0, 'ducra0331': 0, 'Ectheo': 0, 'EEEAAASSSYYY': 409, 'ejfjwjdjw': 29, 'cheongna': 1586, 'fancyguy07': 967, 'fly64': 0, 'galaxy_wk': 47, 'Gang_Minsoi': 0, 'garakdubu': 766, 'gattina_': 803, 'ggm_chip': 343, 'GIHYEON1015': 0, 'gomy_ammi': 100, 'Goommm': 0, 'gusrb0607': 0, 'HaimPokey': 0, 'hanu02': 42867, 'happyerred': 82, 'Hate__MySelf': 1277, 'He_rok': 452, 'He__se': 157, 'Hnxa2004': 0, 'HODORY': 0, 'hogu1111': 1138, 'HoJeong': 0, 'hoyeonn_n': -365606, 'hyeo_k08': 0, 'Hyungoo': 27, 'hyyy033': 0, 'ignore_plz': 0, 'Install_Roblox': -69848, 'Inv_cIsAGoober': 0, 'Jace_luk': 17, 'jaemyungiham10': 665, 'jae_whi': 0, 'jambo_duck': 355, 'jamin1014': 0, 'jhohohoho': 0, 'jinu': 0, 'jinwoooo': 0, 'jiwon07616': 47, 'jocha12127': 60, 'junsung012': 0, 'JustinSungk': 0, 'J__moon': 0, 'kakasigun': 7, 'kangyeajun': 20, 'kataba3223': 283, 'kcy4731': 0, 'KDG_04': -154695, 'kdonguk': 61, 'kimhoyeon011': 0, 'kim_gns': 17, 'KinG_kong_8801': 0, 'kjh331': 0, 'kjs04': 32492, 'kodG': 9, 'ooooooooops': 0, 'Kr_jmlo20': 0, 'ktshkt2820': 726, 'KwonUng': 1789, 'Kyw081221': 106, 'leetaehyeon0_0': 5799, 'lemonlm': 0, 'lingps': 49, 'lmmjvs_': -79644, 'Loitec1114': 27837, 'ltheriyn': 0, 'LUHO_Dupin4666': 611, 'luuni_0125': 1557, 'Macia__': 408, 'marshmallow7889': 3206, 'MAYDAY_SH': 0, 'Midas_moon': 1497, 'mining_tuna': 0, 'Min___E': 14, 'MiS16': 81, 'mno8901': 23, 'moommeomim': 0, 'moran_peony': 218, 'msnxxo': 46, 'NADDORA': 0, 'nametwo': 252, 'nangman': 0, 'Nangman1999': 36250, 'Narr_skr': 29, 'ninza43': 0, 'nsw': 0, 'oj3232': 16, 'Ox_xY': 227, 'penti1056': 0, 'pm0813': 17468, 'Qping7': 4099, 'rabbittoday': 1672, 'Raonie': 0, 'rapidspeed21160': 75, 'RapSong': 771, 'Rare_fruit': 0, 'Raspberrysb': 11698, 'RASSOW': 745, 'rlacoals120317': 0, 'rlaqudaksakstp': 40, 'rlawldnrTml': 1560, 'RobinHX': 261, 'roiu3eroieuf': 0, 'ruuo': 415, 'Rydin__': 1242, 'sangjun0603': 646, 'ScaraCube': 126, 'semignon77': 360, 'SgniWW': 0, 'Sion0906_': 0, 'sirnet': 0, 'skrrrr_ice': 27, 'SKY_7274': 688, 'snackwold': 0, 'SORAM111': 1610, 'ssjss2734': 5675, 'STELLIA44': 0, 'sunaking_000': 708, 'Susoning': 1228, 'taegyu08': -338362, 'test': 0, 'Tester-00': 0, 'tester3': 0, 'TinyTypper': 334, 'Tivelwolf_MD': 0, 'TTEST': 0, 'untitled9': 700, 'whaql2005': 0, 'whitetomoto': 4134, 'wige12': 0, 'WindiestWheat53': 1545, 'woobin01': 0, 'wooin04301': -351661, 'Woonenii': 3162, 'WUSUCK': -48924, 'WUSUK': 0, 'xXTrollerXx_69': 0, 'yebibibibibib': 153, 'zkard': 0, 'zonzal11': 344, 'zzanji': 0, '_chageolppo': 152, '_E_Hyun': 708, '_Haribo__': 561, '_jaemin_TV': 537}\n"
     ]
    }
   ],
   "source": [
    "# gpt 코드\n",
    "user_times = {}\n",
    "\n",
    "for user in lst:\n",
    "    user_messages = d_login[d_login['Message'].str.contains(user)]\n",
    "    plus_indices = user_messages[user_messages['Message'].str.contains('\\[\\+\\]')].index\n",
    "    minus_indices = user_messages[user_messages['Message'].str.contains('\\[-\\]')].index\n",
    "\n",
    "    cumulative_time = 0\n",
    "    for i in range(len(plus_indices)):\n",
    "        if i < len(minus_indices):\n",
    "            login_time = user_messages.loc[plus_indices[i], 'Seconds']\n",
    "            logout_time = user_messages.loc[minus_indices[i], 'Seconds']\n",
    "            time_diff = logout_time - login_time\n",
    "            cumulative_time += time_diff\n",
    "    user_times[user] = cumulative_time\n",
    "\n",
    "print(user_times)"
   ]
  },
  {
   "cell_type": "code",
   "execution_count": 366,
   "metadata": {},
   "outputs": [
    {
     "data": {
      "text/plain": [
       "['02tu',\n",
       " '0c0samoo',\n",
       " '12321',\n",
       " '1hxojxn',\n",
       " '1qa8z76',\n",
       " '21singularity',\n",
       " '5sYeon',\n",
       " '6gaejang_22',\n",
       " 'akosih44',\n",
       " 'anaud12',\n",
       " 'angryjin',\n",
       " 'Anung_',\n",
       " 'apple_kor',\n",
       " 'arang',\n",
       " 'Arangcho',\n",
       " 'bangbong0',\n",
       " 'biracksickhye',\n",
       " 'blackggami',\n",
       " 'black_789',\n",
       " 'BOKUNOFULLMOON',\n",
       " 'Carus0402',\n",
       " 'celaduck',\n",
       " 'chans0504',\n",
       " 'Chkida',\n",
       " 'chlghtjd',\n",
       " 'choiyj120730',\n",
       " 'ChoonSik_2',\n",
       " 'chuzzang',\n",
       " 'Ckum_',\n",
       " 'clobby_1',\n",
       " 'cn22e',\n",
       " 'Croias',\n",
       " 'cross_fie1d',\n",
       " 'cubids',\n",
       " 'danmak534',\n",
       " 'Darkiran',\n",
       " 'dddd',\n",
       " 'dddd1231',\n",
       " 'Ddonghuhu',\n",
       " 'dektembuel',\n",
       " 'dkfkqldkdnjsxnf',\n",
       " 'dkwhwTl',\n",
       " 'dlehgud1128',\n",
       " 'dnsuak2222',\n",
       " 'Dohori',\n",
       " 'Dovep',\n",
       " 'ducra0331',\n",
       " 'Ectheo',\n",
       " 'EEEAAASSSYYY',\n",
       " 'ejfjwjdjw',\n",
       " 'cheongna',\n",
       " 'fancyguy07',\n",
       " 'fly64',\n",
       " 'galaxy_wk',\n",
       " 'Gang_Minsoi',\n",
       " 'garakdubu',\n",
       " 'gattina_',\n",
       " 'ggm_chip',\n",
       " 'GIHYEON1015',\n",
       " 'gomy_ammi',\n",
       " 'Goommm',\n",
       " 'gusrb0607',\n",
       " 'HaimPokey',\n",
       " 'hanu02',\n",
       " 'happyerred',\n",
       " 'Hate__MySelf',\n",
       " 'He_rok',\n",
       " 'He__se',\n",
       " 'Hnxa2004',\n",
       " 'HODORY',\n",
       " 'hogu1111',\n",
       " 'HoJeong',\n",
       " 'hoyeonn_n',\n",
       " 'hyeo_k08',\n",
       " 'Hyungoo',\n",
       " 'hyyy033',\n",
       " 'ignore_plz',\n",
       " 'Install_Roblox',\n",
       " 'Inv_cIsAGoober',\n",
       " 'Jace_luk',\n",
       " 'jaemyungiham10',\n",
       " 'jae_whi',\n",
       " 'jambo_duck',\n",
       " 'jamin1014',\n",
       " 'jhohohoho',\n",
       " 'jinu',\n",
       " 'jinwoooo',\n",
       " 'jiwon07616',\n",
       " 'jocha12127',\n",
       " 'junsung012',\n",
       " 'JustinSungk',\n",
       " 'J__moon',\n",
       " 'kakasigun',\n",
       " 'kangyeajun',\n",
       " 'kataba3223',\n",
       " 'kcy4731',\n",
       " 'KDG_04',\n",
       " 'kdonguk',\n",
       " 'kimhoyeon011',\n",
       " 'kim_gns',\n",
       " 'KinG_kong_8801',\n",
       " 'kjh331',\n",
       " 'kjs04',\n",
       " 'kodG',\n",
       " 'ooooooooops',\n",
       " 'Kr_jmlo20',\n",
       " 'ktshkt2820',\n",
       " 'KwonUng',\n",
       " 'Kyw081221',\n",
       " 'leetaehyeon0_0',\n",
       " 'lemonlm',\n",
       " 'lingps',\n",
       " 'lmmjvs_',\n",
       " 'Loitec1114',\n",
       " 'ltheriyn',\n",
       " 'LUHO_Dupin4666',\n",
       " 'luuni_0125',\n",
       " 'Macia__',\n",
       " 'marshmallow7889',\n",
       " 'MAYDAY_SH',\n",
       " 'Midas_moon',\n",
       " 'mining_tuna',\n",
       " 'Min___E',\n",
       " 'MiS16',\n",
       " 'mno8901',\n",
       " 'moommeomim',\n",
       " 'moran_peony',\n",
       " 'msnxxo',\n",
       " 'NADDORA',\n",
       " 'nametwo',\n",
       " 'nangman',\n",
       " 'Nangman1999',\n",
       " 'Narr_skr',\n",
       " 'ninza43',\n",
       " 'nsw',\n",
       " 'oj3232',\n",
       " 'Ox_xY',\n",
       " 'penti1056',\n",
       " 'pm0813',\n",
       " 'Qping7',\n",
       " 'rabbittoday',\n",
       " 'Raonie',\n",
       " 'rapidspeed21160',\n",
       " 'RapSong',\n",
       " 'Rare_fruit',\n",
       " 'Raspberrysb',\n",
       " 'RASSOW',\n",
       " 'rlacoals120317',\n",
       " 'rlaqudaksakstp',\n",
       " 'rlawldnrTml',\n",
       " 'RobinHX',\n",
       " 'roiu3eroieuf',\n",
       " 'ruuo',\n",
       " 'Rydin__',\n",
       " 'sangjun0603',\n",
       " 'ScaraCube',\n",
       " 'semignon77',\n",
       " 'SgniWW',\n",
       " 'Sion0906_',\n",
       " 'sirnet',\n",
       " 'skrrrr_ice',\n",
       " 'SKY_7274',\n",
       " 'snackwold',\n",
       " 'SORAM111',\n",
       " 'ssjss2734',\n",
       " 'STELLIA44',\n",
       " 'sunaking_000',\n",
       " 'Susoning',\n",
       " 'taegyu08',\n",
       " 'test',\n",
       " 'Tester-00',\n",
       " 'tester3',\n",
       " 'TinyTypper',\n",
       " 'Tivelwolf_MD',\n",
       " 'TTEST',\n",
       " 'untitled9',\n",
       " 'whaql2005',\n",
       " 'whitetomoto',\n",
       " 'wige12',\n",
       " 'WindiestWheat53',\n",
       " 'woobin01',\n",
       " 'wooin04301',\n",
       " 'Woonenii',\n",
       " 'WUSUCK',\n",
       " 'WUSUK',\n",
       " 'xXTrollerXx_69',\n",
       " 'yebibibibibib',\n",
       " 'zkard',\n",
       " 'zonzal11',\n",
       " 'zzanji',\n",
       " '_chageolppo',\n",
       " '_E_Hyun',\n",
       " '_Haribo__',\n",
       " '_jaemin_TV']"
      ]
     },
     "execution_count": 366,
     "metadata": {},
     "output_type": "execute_result"
    }
   ],
   "source": [
    "ele = lst.copy()\n",
    "ele"
   ]
  },
  {
   "cell_type": "code",
   "execution_count": 373,
   "metadata": {},
   "outputs": [
    {
     "name": "stdout",
     "output_type": "stream",
     "text": [
      "191\n",
      "191\n"
     ]
    },
    {
     "data": {
      "text/html": [
       "<div>\n",
       "<style scoped>\n",
       "    .dataframe tbody tr th:only-of-type {\n",
       "        vertical-align: middle;\n",
       "    }\n",
       "\n",
       "    .dataframe tbody tr th {\n",
       "        vertical-align: top;\n",
       "    }\n",
       "\n",
       "    .dataframe thead th {\n",
       "        text-align: right;\n",
       "    }\n",
       "</style>\n",
       "<table border=\"1\" class=\"dataframe\">\n",
       "  <thead>\n",
       "    <tr style=\"text-align: right;\">\n",
       "      <th></th>\n",
       "      <th>User</th>\n",
       "      <th>누적초</th>\n",
       "    </tr>\n",
       "  </thead>\n",
       "  <tbody>\n",
       "    <tr>\n",
       "      <th>16</th>\n",
       "      <td>biracksickhye</td>\n",
       "      <td>71980</td>\n",
       "    </tr>\n",
       "    <tr>\n",
       "      <th>63</th>\n",
       "      <td>hanu02</td>\n",
       "      <td>42867</td>\n",
       "    </tr>\n",
       "    <tr>\n",
       "      <th>128</th>\n",
       "      <td>Nangman1999</td>\n",
       "      <td>36250</td>\n",
       "    </tr>\n",
       "    <tr>\n",
       "      <th>135</th>\n",
       "      <td>pm0813</td>\n",
       "      <td>17468</td>\n",
       "    </tr>\n",
       "    <tr>\n",
       "      <th>142</th>\n",
       "      <td>Raspberrysb</td>\n",
       "      <td>11698</td>\n",
       "    </tr>\n",
       "    <tr>\n",
       "      <th>...</th>\n",
       "      <td>...</td>\n",
       "      <td>...</td>\n",
       "    </tr>\n",
       "    <tr>\n",
       "      <th>14</th>\n",
       "      <td>Arangcho</td>\n",
       "      <td>-82264</td>\n",
       "    </tr>\n",
       "    <tr>\n",
       "      <th>27</th>\n",
       "      <td>chuzzang</td>\n",
       "      <td>-87415</td>\n",
       "    </tr>\n",
       "    <tr>\n",
       "      <th>165</th>\n",
       "      <td>taegyu08</td>\n",
       "      <td>-338362</td>\n",
       "    </tr>\n",
       "    <tr>\n",
       "      <th>178</th>\n",
       "      <td>wooin04301</td>\n",
       "      <td>-351661</td>\n",
       "    </tr>\n",
       "    <tr>\n",
       "      <th>72</th>\n",
       "      <td>hoyeonn_n</td>\n",
       "      <td>-365606</td>\n",
       "    </tr>\n",
       "  </tbody>\n",
       "</table>\n",
       "<p>191 rows × 2 columns</p>\n",
       "</div>"
      ],
      "text/plain": [
       "              User     누적초\n",
       "16   biracksickhye   71980\n",
       "63          hanu02   42867\n",
       "128    Nangman1999   36250\n",
       "135         pm0813   17468\n",
       "142    Raspberrysb   11698\n",
       "..             ...     ...\n",
       "14        Arangcho  -82264\n",
       "27        chuzzang  -87415\n",
       "165       taegyu08 -338362\n",
       "178     wooin04301 -351661\n",
       "72       hoyeonn_n -365606\n",
       "\n",
       "[191 rows x 2 columns]"
      ]
     },
     "execution_count": 373,
     "metadata": {},
     "output_type": "execute_result"
    }
   ],
   "source": [
    "# 개수가 일치하지 않은것 날리는 방법(1)\n",
    "time = []\n",
    "for li in ele:\n",
    "    plus = []\n",
    "    minus = []\n",
    "    for idx, message in enumerate(d_login['Message']):\n",
    "        if (li in message) and ('[+]' in message):\n",
    "            plus.append(d_login.iloc[idx]['Seconds'])\n",
    "        elif (li in message) and ('[-]' in message):\n",
    "            minus.append(d_login.iloc[idx]['Seconds'])\n",
    "\n",
    "    # [+] 개수와 [-] 개수가 같은지 확인\n",
    "    if len(plus) == len(minus):\n",
    "        total_plus_time = sum(plus)\n",
    "        total_minus_time = sum(minus)\n",
    "        result = total_minus_time - total_plus_time\n",
    "        time.append(result)\n",
    "    else:\n",
    "        print(f\"사용자 '{li}'의 [+] 개수와 [-] 개수가 일치하지 않습니다.\")\n",
    "        ele.remove(li)\n",
    "    \n",
    "df_time = pd.DataFrame({'User': ele, '누적초': time})\n",
    "df_time.sort_values(by='누적초',ascending=False)"
   ]
  },
  {
   "cell_type": "code",
   "execution_count": null,
   "metadata": {},
   "outputs": [],
   "source": [
    "#최종\n",
    "import datetime\n",
    "def convert_to_seconds(timestamp):\n",
    "    time_obj = datetime.datetime.strptime(timestamp, '%H:%M:%S')\n",
    "    seconds = time_obj.hour * 3600 + time_obj.minute * 60 + time_obj.second\n",
    "    # 새벽 시간 (00:00:00 ~ 06:00:00) 처리\n",
    "    if time_obj.hour < 6:\n",
    "        seconds += 86400\n",
    "    return seconds\n",
    "\n",
    "d_login = dd[(dd['Message'].str.contains('\\[\\+\\].*')) | (dd['Message'].str.contains('\\[\\-\\].*'))]\n",
    "d_login = d_login[~d_login['Message'].str.contains('님이')].reset_index().drop(['index'],axis=1)\n",
    "d_login['Seconds'] = d_login['Timestamp'].apply(convert_to_seconds)\n",
    "\n",
    "\n",
    "# 개수 일치하는거 처리하는 방법(2)\n",
    "# d_login = d_login.drop([0, 2, 610]) # 인덱스 날려버리기 \n",
    "time = []\n",
    "# no_match =[]\n",
    "for li in lst:\n",
    "    plus = []\n",
    "    minus = []\n",
    "    for idx, message in enumerate(d_login['Message']):\n",
    "        if (li in message) and ('[+]' in message):\n",
    "            plus.append(d_login.iloc[idx]['Seconds'])\n",
    "        elif (li in message) and ('[-]' in message):\n",
    "            minus.append(d_login.iloc[idx]['Seconds'])\n",
    "\n",
    "    # [+] 개수와 [-] 개수가 같은지 확인\n",
    "    if len(plus) == len(minus):\n",
    "        total_plus_time = sum(plus)\n",
    "        total_minus_time = sum(minus)\n",
    "        result = total_minus_time - total_plus_time\n",
    "        time.append(result/3600)\n",
    "    else:\n",
    "        print(f\"사용자 '{li}'의 [+] 개수와 [-] 개수가 일치하지 않습니다. plus 개수 : {len(plus)} , minus 개수 : {len(minus)}\")\n",
    "        # no_match.append(li)\n",
    "\n",
    "\n",
    "# print(no_match) # 매치안된거 확인(['KDG_04(610인덱스 날리자)'/'kjs04(0번인덱스 날리자)'/'Loitec1114(2번인덱스 날리자)']_\n",
    "# 확인#\n",
    "# print(len(lst))\n",
    "# print(len(time))\n",
    "df_time = pd.DataFrame({'User': lst , '누적 시간': time}).sort_values(by='누적 시간',ascending=False).reset_index().drop('index',axis=1).head(10)\n",
    "df_time"
   ]
  },
  {
   "cell_type": "code",
   "execution_count": null,
   "metadata": {},
   "outputs": [],
   "source": [
    "def user_logit(df,lst):\n",
    "    extracted = []\n",
    "    for message in d_login['Message']:\n",
    "        for ltem in lst:\n",
    "            if ltem in message:\n",
    "                extracted.append(ltem)\n",
    "                break\n",
    "        else:\n",
    "            extracted.append(' ')\n",
    "    df['user'] = extracted "
   ]
  },
  {
   "cell_type": "code",
   "execution_count": null,
   "metadata": {},
   "outputs": [
    {
     "name": "stderr",
     "output_type": "stream",
     "text": [
      "C:\\Users\\administ\\ipykernel_23660\\232803862.py:2: FutureWarning: \n",
      "\n",
      "Passing `palette` without assigning `hue` is deprecated and will be removed in v0.14.0. Assign the `x` variable to `hue` and set `legend=False` for the same effect.\n",
      "\n",
      "  sns.barplot(x=top_users.index, y=top_users.values, palette='viridis')\n"
     ]
    },
    {
     "data": {
      "text/plain": [
       "Text(0.5, 1.0, '유저별 접속횟수')"
      ]
     },
     "execution_count": 26,
     "metadata": {},
     "output_type": "execute_result"
    },
    {
     "data": {
      "image/png": "[encoded data removed]",
      "text/plain": [
       "<Figure size 640x480 with 1 Axes>"
      ]
     },
     "metadata": {},
     "output_type": "display_data"
    }
   ],
   "source": [
    "top_users = d_login['Message'].str.extract(r'\\[\\w+\\] ?(\\w+)')[0].value_counts().head(5) # 뉴비 뒤에있는 문자추출\n",
    "sns.barplot(x=top_users.index, y=top_users.values, palette='viridis')\n",
    "plt.xlabel('유저')\n",
    "plt.ylabel('접속 횟수')\n",
    "plt.title('유저별 접속횟수')"
   ]
  },
  {
   "cell_type": "markdown",
   "metadata": {},
   "source": [
    "## 구입 분석 (구입은 gui밖에 없다)"
   ]
  },
  {
   "cell_type": "markdown",
   "metadata": {},
   "source": [
    "### 데이터 전처리"
   ]
  },
  {
   "cell_type": "code",
   "execution_count": null,
   "metadata": {},
   "outputs": [
    {
     "data": {
      "text/html": [
       "<div>\n",
       "<style scoped>\n",
       "    .dataframe tbody tr th:only-of-type {\n",
       "        vertical-align: middle;\n",
       "    }\n",
       "\n",
       "    .dataframe tbody tr th {\n",
       "        vertical-align: top;\n",
       "    }\n",
       "\n",
       "    .dataframe thead th {\n",
       "        text-align: right;\n",
       "    }\n",
       "</style>\n",
       "<table border=\"1\" class=\"dataframe\">\n",
       "  <thead>\n",
       "    <tr style=\"text-align: right;\">\n",
       "      <th></th>\n",
       "      <th>Timestamp</th>\n",
       "      <th>Message</th>\n",
       "      <th>Item</th>\n",
       "      <th>Count</th>\n",
       "      <th>cost</th>\n",
       "      <th>category</th>\n",
       "    </tr>\n",
       "  </thead>\n",
       "  <tbody>\n",
       "    <tr>\n",
       "      <th>2852</th>\n",
       "      <td>00:52:02</td>\n",
       "      <td>Shop &gt;&gt; Install_Roblox 님이 Bone(Mobs.page1.items.4)를 13 만큼 195를 지불해 구입 화면로 구입 하셨습니다.</td>\n",
       "      <td>Bone</td>\n",
       "      <td>13</td>\n",
       "      <td>195</td>\n",
       "      <td>Mobs</td>\n",
       "    </tr>\n",
       "    <tr>\n",
       "      <th>3440</th>\n",
       "      <td>10:50:47</td>\n",
       "      <td>Shop &gt;&gt; kjs04 님이 Potato(Farming.page1.items.21)를 17 만큼 85를 지불해 구입 화면로 구입 하셨습니다.</td>\n",
       "      <td>Potato</td>\n",
       "      <td>17</td>\n",
       "      <td>85</td>\n",
       "      <td>Farming</td>\n",
       "    </tr>\n",
       "    <tr>\n",
       "      <th>3694</th>\n",
       "      <td>12:56:50</td>\n",
       "      <td>Shop &gt;&gt; kjs04 님이 Warped Slab(Blocks.page5.items.220)를 33 만큼 9.24를 지불해 구입 화면로 구입 하셨습니다.</td>\n",
       "      <td>Warped Slab</td>\n",
       "      <td>33</td>\n",
       "      <td>24</td>\n",
       "      <td>Blocks</td>\n",
       "    </tr>\n",
       "    <tr>\n",
       "      <th>3722</th>\n",
       "      <td>13:12:27</td>\n",
       "      <td>Shop &gt;&gt; Install_Roblox 님이 Cobblestone(Blocks.page2.items.54)를 128 만큼 87.04를 지불해 세트 구매 화면로 구입 하셨습니다.</td>\n",
       "      <td>Cobblestone</td>\n",
       "      <td>128</td>\n",
       "      <td>4</td>\n",
       "      <td>Blocks</td>\n",
       "    </tr>\n",
       "    <tr>\n",
       "      <th>3728</th>\n",
       "      <td>13:13:11</td>\n",
       "      <td>Shop &gt;&gt; Install_Roblox 님이 Birch Log(Blocks.page4.items.175)를 64 만큼 192를 지불해 세트 구매 화면로 구입 하셨습니다.</td>\n",
       "      <td>Birch Log</td>\n",
       "      <td>64</td>\n",
       "      <td>192</td>\n",
       "      <td>Blocks</td>\n",
       "    </tr>\n",
       "    <tr>\n",
       "      <th>...</th>\n",
       "      <td>...</td>\n",
       "      <td>...</td>\n",
       "      <td>...</td>\n",
       "      <td>...</td>\n",
       "      <td>...</td>\n",
       "      <td>...</td>\n",
       "    </tr>\n",
       "    <tr>\n",
       "      <th>32601</th>\n",
       "      <td>23:12:16</td>\n",
       "      <td>Shop &gt;&gt; KDG_04 님이 Iron Ingot(Ores.page1.items.16)를 2 만큼 160를 지불해 구입 화면로 구입 하셨습니다.</td>\n",
       "      <td>Iron Ingot</td>\n",
       "      <td>2</td>\n",
       "      <td>160</td>\n",
       "      <td>Ores</td>\n",
       "    </tr>\n",
       "    <tr>\n",
       "      <th>32643</th>\n",
       "      <td>23:32:26</td>\n",
       "      <td>Shop &gt;&gt; wooin04301 님이 Coal Block(Ores.page1.items.5)를 17 만큼 2,720를 지불해 구입 화면로 구입 하셨습니다.</td>\n",
       "      <td>Coal Block</td>\n",
       "      <td>17</td>\n",
       "      <td>720</td>\n",
       "      <td>Ores</td>\n",
       "    </tr>\n",
       "    <tr>\n",
       "      <th>32658</th>\n",
       "      <td>23:36:25</td>\n",
       "      <td>Shop &gt;&gt; taegyu08 님이 Glass(Blocks.page3.items.112)를 1 만큼 6.30를 지불해 구입 화면로 구입 하셨습니다.</td>\n",
       "      <td>Glass</td>\n",
       "      <td>1</td>\n",
       "      <td>30</td>\n",
       "      <td>Blocks</td>\n",
       "    </tr>\n",
       "    <tr>\n",
       "      <th>32660</th>\n",
       "      <td>23:36:44</td>\n",
       "      <td>Shop &gt;&gt; taegyu08 님이 Glass(Blocks.page3.items.112)를 1 만큼 6.30를 지불해 구입 화면로 구입 하셨습니다.</td>\n",
       "      <td>Glass</td>\n",
       "      <td>1</td>\n",
       "      <td>30</td>\n",
       "      <td>Blocks</td>\n",
       "    </tr>\n",
       "    <tr>\n",
       "      <th>32758</th>\n",
       "      <td>23:59:52</td>\n",
       "      <td>Shop &gt;&gt; lmmjvs_ 님이 Wheat(Farming.page1.items.28)를 64 만큼 320를 지불해 구입 화면로 구입 하셨습니다.</td>\n",
       "      <td>Wheat</td>\n",
       "      <td>64</td>\n",
       "      <td>320</td>\n",
       "      <td>Farming</td>\n",
       "    </tr>\n",
       "  </tbody>\n",
       "</table>\n",
       "<p>741 rows × 6 columns</p>\n",
       "</div>"
      ],
      "text/plain": [
       "      Timestamp  \\\n",
       "2852   00:52:02   \n",
       "3440   10:50:47   \n",
       "3694   12:56:50   \n",
       "3722   13:12:27   \n",
       "3728   13:13:11   \n",
       "...         ...   \n",
       "32601  23:12:16   \n",
       "32643  23:32:26   \n",
       "32658  23:36:25   \n",
       "32660  23:36:44   \n",
       "32758  23:59:52   \n",
       "\n",
       "                                                                                                   Message  \\\n",
       "2852                   Shop >> Install_Roblox 님이 Bone(Mobs.page1.items.4)를 13 만큼 195를 지불해 구입 화면로 구입 하셨습니다.   \n",
       "3440                       Shop >> kjs04 님이 Potato(Farming.page1.items.21)를 17 만큼 85를 지불해 구입 화면로 구입 하셨습니다.   \n",
       "3694                Shop >> kjs04 님이 Warped Slab(Blocks.page5.items.220)를 33 만큼 9.24를 지불해 구입 화면로 구입 하셨습니다.   \n",
       "3722   Shop >> Install_Roblox 님이 Cobblestone(Blocks.page2.items.54)를 128 만큼 87.04를 지불해 세트 구매 화면로 구입 하셨습니다.   \n",
       "3728       Shop >> Install_Roblox 님이 Birch Log(Blocks.page4.items.175)를 64 만큼 192를 지불해 세트 구매 화면로 구입 하셨습니다.   \n",
       "...                                                                                                    ...   \n",
       "32601                    Shop >> KDG_04 님이 Iron Ingot(Ores.page1.items.16)를 2 만큼 160를 지불해 구입 화면로 구입 하셨습니다.   \n",
       "32643              Shop >> wooin04301 님이 Coal Block(Ores.page1.items.5)를 17 만큼 2,720를 지불해 구입 화면로 구입 하셨습니다.   \n",
       "32658                   Shop >> taegyu08 님이 Glass(Blocks.page3.items.112)를 1 만큼 6.30를 지불해 구입 화면로 구입 하셨습니다.   \n",
       "32660                   Shop >> taegyu08 님이 Glass(Blocks.page3.items.112)를 1 만큼 6.30를 지불해 구입 화면로 구입 하셨습니다.   \n",
       "32758                    Shop >> lmmjvs_ 님이 Wheat(Farming.page1.items.28)를 64 만큼 320를 지불해 구입 화면로 구입 하셨습니다.   \n",
       "\n",
       "              Item  Count  cost category  \n",
       "2852          Bone     13   195     Mobs  \n",
       "3440        Potato     17    85  Farming  \n",
       "3694   Warped Slab     33    24   Blocks  \n",
       "3722   Cobblestone    128     4   Blocks  \n",
       "3728     Birch Log     64   192   Blocks  \n",
       "...            ...    ...   ...      ...  \n",
       "32601   Iron Ingot      2   160     Ores  \n",
       "32643   Coal Block     17   720     Ores  \n",
       "32658        Glass      1    30   Blocks  \n",
       "32660        Glass      1    30   Blocks  \n",
       "32758        Wheat     64   320  Farming  \n",
       "\n",
       "[741 rows x 6 columns]"
      ]
     },
     "execution_count": 27,
     "metadata": {},
     "output_type": "execute_result"
    }
   ],
   "source": [
    "df_buy = dd[dd['Message'].str.contains('구입')].copy()\n",
    "df_buy['Item'] = df_buy['Message'].str.extract(r'님이 ([^(]+)') # 님이 이후에 괄호를 뺀 모든 문자열\n",
    "df_buy['Count'] = df_buy['Message'].str.extract(r'(\\d+) 만큼') # 숫자 , 만큼 \n",
    "df_buy['cost'] = df_buy['Message'].str.extract(r'(\\d+)를') \n",
    "df_buy['Count'] = df_buy['Count'].astype(int)\n",
    "df_buy['cost'] = df_buy['cost'].astype(int)\n",
    "df_buy[\"category\"] = df_buy[\"Message\"].str.findall(r\"\\((.+?)\\.\")\n",
    "df_buy[\"category\"] = df_buy[\"category\"].apply(lambda x: ', '.join(x))\n",
    "df_buy"
   ]
  },
  {
   "cell_type": "markdown",
   "metadata": {},
   "source": [
    "### 그래프"
   ]
  },
  {
   "cell_type": "code",
   "execution_count": null,
   "metadata": {},
   "outputs": [
    {
     "name": "stderr",
     "output_type": "stream",
     "text": [
      "C:\\Users\\administ\\ipykernel_23660\\4027194075.py:4: FutureWarning: \n",
      "\n",
      "Passing `palette` without assigning `hue` is deprecated and will be removed in v0.14.0. Assign the `x` variable to `hue` and set `legend=False` for the same effect.\n",
      "\n",
      "  sns.barplot(x=top_item_total.index, y=top_item_total.values, ax=axes[0], palette='viridis')\n",
      "C:\\Users\\administ\\ipykernel_23660\\4027194075.py:10: FutureWarning: \n",
      "\n",
      "Passing `palette` without assigning `hue` is deprecated and will be removed in v0.14.0. Assign the `x` variable to `hue` and set `legend=False` for the same effect.\n",
      "\n",
      "  sns.barplot(x=top_item_count.index, y=top_item_count.values, ax=axes[1], palette='viridis')\n",
      "C:\\Users\\administ\\ipykernel_23660\\4027194075.py:15: FutureWarning: \n",
      "\n",
      "Passing `palette` without assigning `hue` is deprecated and will be removed in v0.14.0. Assign the `x` variable to `hue` and set `legend=False` for the same effect.\n",
      "\n",
      "  sns.barplot(x=top_item_category.index, y=top_item_category.values, ax=axes[2], palette='viridis')\n"
     ]
    },
    {
     "data": {
      "image/png": "[encoded data removed]",
      "text/plain": [
       "<Figure size 2000x600 with 3 Axes>"
      ]
     },
     "metadata": {},
     "output_type": "display_data"
    }
   ],
   "source": [
    "fig, axes = plt.subplots(1, 3, figsize=(20, 6))\n",
    "# 첫 번째 그래프: 총 비용\n",
    "top_item_total = df_buy.groupby('Item')['cost'].sum().sort_values(ascending=False).head(5)\n",
    "sns.barplot(x=top_item_total.index, y=top_item_total.values, ax=axes[0], palette='viridis')\n",
    "axes[0].set_xlabel('아이템')\n",
    "axes[0].set_ylabel('총 구입비용')\n",
    "\n",
    "# 두 번째 그래프: 아이템별 총 구입량 \n",
    "top_item_count = df_buy.groupby('Item')['Count'].sum().sort_values(ascending=False).head(5)\n",
    "sns.barplot(x=top_item_count.index, y=top_item_count.values, ax=axes[1], palette='viridis')\n",
    "axes[1].set_xlabel('아이템')\n",
    "axes[1].set_ylabel('총 구입양')\n",
    "\n",
    "top_item_category = df_buy.groupby('Item')['Count'].sum().sort_values(ascending=False).head(5)\n",
    "sns.barplot(x=top_item_category.index, y=top_item_category.values, ax=axes[2], palette='viridis')\n",
    "axes[2].set_xlabel('아이템')\n",
    "axes[2].set_ylabel('총 구입양')\n",
    "\n",
    "\n",
    "plt.show()"
   ]
  },
  {
   "cell_type": "markdown",
   "metadata": {},
   "source": [
    "## 판매 분석(gui랑 shop으로 판매 나눠짐)"
   ]
  },
  {
   "cell_type": "markdown",
   "metadata": {},
   "source": [
    "### 데이터 전처리(gui->df_sell1)"
   ]
  },
  {
   "cell_type": "code",
   "execution_count": null,
   "metadata": {},
   "outputs": [
    {
     "data": {
      "text/html": [
       "<div>\n",
       "<style scoped>\n",
       "    .dataframe tbody tr th:only-of-type {\n",
       "        vertical-align: middle;\n",
       "    }\n",
       "\n",
       "    .dataframe tbody tr th {\n",
       "        vertical-align: top;\n",
       "    }\n",
       "\n",
       "    .dataframe thead th {\n",
       "        text-align: right;\n",
       "    }\n",
       "</style>\n",
       "<table border=\"1\" class=\"dataframe\">\n",
       "  <thead>\n",
       "    <tr style=\"text-align: right;\">\n",
       "      <th></th>\n",
       "      <th>Timestamp</th>\n",
       "      <th>Message</th>\n",
       "      <th>item</th>\n",
       "      <th>cost</th>\n",
       "      <th>category</th>\n",
       "    </tr>\n",
       "  </thead>\n",
       "  <tbody>\n",
       "    <tr>\n",
       "      <th>2714</th>\n",
       "      <td>00:04:54</td>\n",
       "      <td>Shop &gt;&gt; bangbong0 판매 21x Copper Ingot(Ores.page1.items.7) for 147 with the 판매 gui.</td>\n",
       "      <td>Copper Ingot</td>\n",
       "      <td>147.00</td>\n",
       "      <td>Ores</td>\n",
       "    </tr>\n",
       "    <tr>\n",
       "      <th>2716</th>\n",
       "      <td>00:08:05</td>\n",
       "      <td>Shop &gt;&gt; Install_Roblox 판매 39x Cobbled Deepslate(Blocks.page2.items.89), 63x Redstone(Ores.page1.items.23), 1x Tuff(Blocks.page1.items.12), 7x Rotten Flesh(Mobs.page1.items.15), 3x Gunpowder(Mobs.page1.items.8) for 332.13 with the 판매 gui.</td>\n",
       "      <td>Cobbled Deepslate, Redstone, Tuff, Rotten Flesh, Gunpowder</td>\n",
       "      <td>332.13</td>\n",
       "      <td>Blocks, Ores, Blocks, Mobs, Mobs</td>\n",
       "    </tr>\n",
       "    <tr>\n",
       "      <th>2718</th>\n",
       "      <td>00:08:18</td>\n",
       "      <td>Shop &gt;&gt; bangbong0 판매 2x Arrow(Mobs.page1.items.1), 41x Copper Ingot(Ores.page1.items.7) for 287.60 with the 판매 gui.</td>\n",
       "      <td>Arrow, Copper Ingot</td>\n",
       "      <td>287.60</td>\n",
       "      <td>Mobs, Ores</td>\n",
       "    </tr>\n",
       "    <tr>\n",
       "      <th>2721</th>\n",
       "      <td>00:08:27</td>\n",
       "      <td>Shop &gt;&gt; bangbong0 판매 20x Glow Berries(Food.page1.items.20) for 4 with the 판매 gui.</td>\n",
       "      <td>Glow Berries</td>\n",
       "      <td>4.00</td>\n",
       "      <td>Food</td>\n",
       "    </tr>\n",
       "    <tr>\n",
       "      <th>2723</th>\n",
       "      <td>00:12:56</td>\n",
       "      <td>Shop &gt;&gt; Install_Roblox 판매 158x Cobbled Deepslate(Blocks.page2.items.89), 1x Redstone(Ores.page1.items.23), 37x Tuff(Blocks.page1.items.12) for 50.36 with the 판매 gui.</td>\n",
       "      <td>Cobbled Deepslate, Redstone, Tuff</td>\n",
       "      <td>50.36</td>\n",
       "      <td>Blocks, Ores, Blocks</td>\n",
       "    </tr>\n",
       "  </tbody>\n",
       "</table>\n",
       "</div>"
      ],
      "text/plain": [
       "     Timestamp  \\\n",
       "2714  00:04:54   \n",
       "2716  00:08:05   \n",
       "2718  00:08:18   \n",
       "2721  00:08:27   \n",
       "2723  00:12:56   \n",
       "\n",
       "                                                                                                                                                                                                                                            Message  \\\n",
       "2714                                                                                                                                                             Shop >> bangbong0 판매 21x Copper Ingot(Ores.page1.items.7) for 147 with the 판매 gui.   \n",
       "2716  Shop >> Install_Roblox 판매 39x Cobbled Deepslate(Blocks.page2.items.89), 63x Redstone(Ores.page1.items.23), 1x Tuff(Blocks.page1.items.12), 7x Rotten Flesh(Mobs.page1.items.15), 3x Gunpowder(Mobs.page1.items.8) for 332.13 with the 판매 gui.   \n",
       "2718                                                                                                                            Shop >> bangbong0 판매 2x Arrow(Mobs.page1.items.1), 41x Copper Ingot(Ores.page1.items.7) for 287.60 with the 판매 gui.   \n",
       "2721                                                                                                                                                              Shop >> bangbong0 판매 20x Glow Berries(Food.page1.items.20) for 4 with the 판매 gui.   \n",
       "2723                                                                          Shop >> Install_Roblox 판매 158x Cobbled Deepslate(Blocks.page2.items.89), 1x Redstone(Ores.page1.items.23), 37x Tuff(Blocks.page1.items.12) for 50.36 with the 판매 gui.   \n",
       "\n",
       "                                                            item    cost  \\\n",
       "2714                                                Copper Ingot  147.00   \n",
       "2716  Cobbled Deepslate, Redstone, Tuff, Rotten Flesh, Gunpowder  332.13   \n",
       "2718                                         Arrow, Copper Ingot  287.60   \n",
       "2721                                                Glow Berries    4.00   \n",
       "2723                           Cobbled Deepslate, Redstone, Tuff   50.36   \n",
       "\n",
       "                              category  \n",
       "2714                              Ores  \n",
       "2716  Blocks, Ores, Blocks, Mobs, Mobs  \n",
       "2718                        Mobs, Ores  \n",
       "2721                              Food  \n",
       "2723              Blocks, Ores, Blocks  "
      ]
     },
     "execution_count": 29,
     "metadata": {},
     "output_type": "execute_result"
    }
   ],
   "source": [
    "# gui\n",
    "df_sell1 = dd[dd['Message'].str.contains('판매 gui')]\n",
    "df_sell1 = df_sell1[~df_sell1['Message'].str.contains('챗')]\n",
    "df_sell1['item'] = df_sell1['Message'].str.extractall(r'(\\d+x\\s([\\w\\s]+)\\(.*?\\))')[1].groupby(level=0).apply(list)\n",
    "df_sell1['item'] = df_sell1['item'].apply(lambda x: ', '.join(x) if isinstance(x, list) else x)\n",
    "df_sell1['cost'] = df_sell1['Message'].str.extract(r'for (\\d{1,3}(?:,\\d{3})*(?:\\.\\d+)?)')\n",
    "df_sell1['cost'] = df_sell1['cost'].str.replace(',', '').astype(float)\n",
    "df_sell1[\"category\"] = df_sell1[\"Message\"].str.findall(r\"\\((.+?)\\.\")\n",
    "df_sell1[\"category\"] = df_sell1[\"category\"].apply(lambda x: ', '.join(x))\n",
    "df_sell1.head(5)"
   ]
  },
  {
   "cell_type": "markdown",
   "metadata": {},
   "source": [
    "### 데이터전처리(shop->df_sell2)"
   ]
  },
  {
   "cell_type": "code",
   "execution_count": null,
   "metadata": {},
   "outputs": [
    {
     "data": {
      "text/html": [
       "<div>\n",
       "<style scoped>\n",
       "    .dataframe tbody tr th:only-of-type {\n",
       "        vertical-align: middle;\n",
       "    }\n",
       "\n",
       "    .dataframe tbody tr th {\n",
       "        vertical-align: top;\n",
       "    }\n",
       "\n",
       "    .dataframe thead th {\n",
       "        text-align: right;\n",
       "    }\n",
       "</style>\n",
       "<table border=\"1\" class=\"dataframe\">\n",
       "  <thead>\n",
       "    <tr style=\"text-align: right;\">\n",
       "      <th></th>\n",
       "      <th>Timestamp</th>\n",
       "      <th>Message</th>\n",
       "      <th>item</th>\n",
       "      <th>cost</th>\n",
       "      <th>category</th>\n",
       "    </tr>\n",
       "  </thead>\n",
       "  <tbody>\n",
       "    <tr>\n",
       "      <th>4246</th>\n",
       "      <td>16:04:38</td>\n",
       "      <td>Shop &gt;&gt; Kr_jmlo20 님이 Rotten Flesh(Mobs.page1.items.15)를 3 만큼 3를 지불해 quick sell screen로 판매 하셨습니다.</td>\n",
       "      <td>Rotten Flesh</td>\n",
       "      <td>3.0</td>\n",
       "      <td>Mobs</td>\n",
       "    </tr>\n",
       "    <tr>\n",
       "      <th>4261</th>\n",
       "      <td>16:07:48</td>\n",
       "      <td>Shop &gt;&gt; Rare_fruit 님이 Netherite Ingot(Ores.page1.items.20)를 1 만큼 45,000를 지불해 판매 화면로 판매 하셨습니다.</td>\n",
       "      <td>Netherite Ingot</td>\n",
       "      <td>0.0</td>\n",
       "      <td>Ores</td>\n",
       "    </tr>\n",
       "    <tr>\n",
       "      <th>4306</th>\n",
       "      <td>16:18:20</td>\n",
       "      <td>Shop &gt;&gt; Kr_jmlo20 님이 Diamond(Ores.page1.items.9)를 38 만큼 7,600를 지불해 quick sell screen로 판매 하셨습니다.</td>\n",
       "      <td>Diamond</td>\n",
       "      <td>600.0</td>\n",
       "      <td>Ores</td>\n",
       "    </tr>\n",
       "    <tr>\n",
       "      <th>5509</th>\n",
       "      <td>21:19:56</td>\n",
       "      <td>Shop &gt;&gt; dddd1231 님이 Emerald Block(Ores.page1.items.12)를 1 만큼 500를 지불해 판매 화면로 판매 하셨습니다.</td>\n",
       "      <td>Emerald Block</td>\n",
       "      <td>500.0</td>\n",
       "      <td>Ores</td>\n",
       "    </tr>\n",
       "    <tr>\n",
       "      <th>5511</th>\n",
       "      <td>21:19:56</td>\n",
       "      <td>Shop &gt;&gt; dddd1231 님이 Emerald Block(Ores.page1.items.12)를 1 만큼 500를 지불해 판매 화면로 판매 하셨습니다.</td>\n",
       "      <td>Emerald Block</td>\n",
       "      <td>500.0</td>\n",
       "      <td>Ores</td>\n",
       "    </tr>\n",
       "  </tbody>\n",
       "</table>\n",
       "</div>"
      ],
      "text/plain": [
       "     Timestamp  \\\n",
       "4246  16:04:38   \n",
       "4261  16:07:48   \n",
       "4306  16:18:20   \n",
       "5509  21:19:56   \n",
       "5511  21:19:56   \n",
       "\n",
       "                                                                                               Message  \\\n",
       "4246  Shop >> Kr_jmlo20 님이 Rotten Flesh(Mobs.page1.items.15)를 3 만큼 3를 지불해 quick sell screen로 판매 하셨습니다.   \n",
       "4261     Shop >> Rare_fruit 님이 Netherite Ingot(Ores.page1.items.20)를 1 만큼 45,000를 지불해 판매 화면로 판매 하셨습니다.   \n",
       "4306   Shop >> Kr_jmlo20 님이 Diamond(Ores.page1.items.9)를 38 만큼 7,600를 지불해 quick sell screen로 판매 하셨습니다.   \n",
       "5509            Shop >> dddd1231 님이 Emerald Block(Ores.page1.items.12)를 1 만큼 500를 지불해 판매 화면로 판매 하셨습니다.   \n",
       "5511            Shop >> dddd1231 님이 Emerald Block(Ores.page1.items.12)를 1 만큼 500를 지불해 판매 화면로 판매 하셨습니다.   \n",
       "\n",
       "                 item   cost category  \n",
       "4246     Rotten Flesh    3.0     Mobs  \n",
       "4261  Netherite Ingot    0.0     Ores  \n",
       "4306          Diamond  600.0     Ores  \n",
       "5509    Emerald Block  500.0     Ores  \n",
       "5511    Emerald Block  500.0     Ores  "
      ]
     },
     "execution_count": 30,
     "metadata": {},
     "output_type": "execute_result"
    }
   ],
   "source": [
    "# 하나 판매\n",
    "df_sell2 = dd[dd['Message'].str.contains('판매 하셨습니다')].copy()\n",
    "df_sell2['item'] = df_sell2['Message'].str.extract(r'님이 ([^(]+)')\n",
    "df_sell2['cost'] = df_sell2['Message'].str.extract(r'(\\d+)를') \n",
    "df_sell2['cost'] = df_sell2['cost'].astype(float)\n",
    "df_sell2[\"category\"] = df_sell2[\"Message\"].str.findall(r\"\\((.+?)\\.\")\n",
    "df_sell2[\"category\"] = df_sell2[\"category\"].apply(lambda x: ', '.join(x))\n",
    "df_sell2.head(5)"
   ]
  },
  {
   "cell_type": "markdown",
   "metadata": {},
   "source": [
    "### 판매 다양한 분석"
   ]
  },
  {
   "cell_type": "code",
   "execution_count": null,
   "metadata": {},
   "outputs": [
    {
     "data": {
      "text/plain": [
       "item\n",
       "Netherite Block                                                        3600000.00\n",
       "Netherite Ingot                                                        1665000.00\n",
       "Netherite Ingot, Quartz                                                 720705.00\n",
       "Basalt, Magma Block, Netherrack, Gravel, Ancient Debris, Blackstone     582812.14\n",
       "Emerald Block                                                           369000.00\n",
       "Name: cost, dtype: float64"
      ]
     },
     "execution_count": 32,
     "metadata": {},
     "output_type": "execute_result"
    }
   ],
   "source": [
    "# 조합 최고 돈번 상품 \n",
    "df_sell1.groupby('item')['cost'].sum().sort_values(ascending=False).head(5) "
   ]
  },
  {
   "cell_type": "code",
   "execution_count": null,
   "metadata": {},
   "outputs": [
    {
     "data": {
      "text/plain": [
       "item\n",
       "Emerald Block     24500.0\n",
       "Diamond            7800.0\n",
       "Redstone           5355.0\n",
       "Copper Block       4680.0\n",
       "Redstone Block     4100.0\n",
       "Name: cost, dtype: float64"
      ]
     },
     "execution_count": 33,
     "metadata": {},
     "output_type": "execute_result"
    }
   ],
   "source": [
    "# 한개만 캐서 파는 최고 상품 \n",
    "df_sell2.groupby('item')['cost'].sum().sort_values(ascending=False).head(5)"
   ]
  },
  {
   "cell_type": "markdown",
   "metadata": {},
   "source": [
    "### 시각화"
   ]
  },
  {
   "cell_type": "code",
   "execution_count": null,
   "metadata": {},
   "outputs": [
    {
     "name": "stderr",
     "output_type": "stream",
     "text": [
      "C:\\Users\\administ\\ipykernel_23660\\2735251316.py:6: FutureWarning: \n",
      "\n",
      "Passing `palette` without assigning `hue` is deprecated and will be removed in v0.14.0. Assign the `x` variable to `hue` and set `legend=False` for the same effect.\n",
      "\n",
      "  sns.barplot(x=top_item_sell_total.index, y=top_item_sell_total.values, ax=axes[0], palette='viridis')\n",
      "C:\\Users\\administ\\ipykernel_23660\\2735251316.py:13: FutureWarning: \n",
      "\n",
      "Passing `palette` without assigning `hue` is deprecated and will be removed in v0.14.0. Assign the `x` variable to `hue` and set `legend=False` for the same effect.\n",
      "\n",
      "  sns.barplot(x=top_item_sell_total2.index, y=top_item_sell_total2.values, ax=axes[1], palette='viridis')\n"
     ]
    },
    {
     "data": {
      "text/plain": [
       "Text(0.5, 1.0, '개별 판매금액 총액')"
      ]
     },
     "execution_count": 34,
     "metadata": {},
     "output_type": "execute_result"
    },
    {
     "data": {
      "image/png": "[encoded data removed]",
      "text/plain": [
       "<Figure size 3000x500 with 2 Axes>"
      ]
     },
     "metadata": {},
     "output_type": "display_data"
    }
   ],
   "source": [
    "# 고수들이 버는 돈\n",
    "\n",
    "fig, axes = plt.subplots(1, 2, figsize=(30, 5))\n",
    "# 첫 번째 그래프: 총 비용\n",
    "top_item_sell_total = df_sell1.groupby('item')['cost'].sum().sort_values(ascending=False).iloc[2:7]\n",
    "sns.barplot(x=top_item_sell_total.index, y=top_item_sell_total.values, ax=axes[0], palette='viridis')\n",
    "axes[0].set_xlabel('아이템 조합')\n",
    "axes[0].set_ylabel('총액')\n",
    "axes[0].set_title('조합별 판매금액 총액')\n",
    "\n",
    "# 두 번째 그래프: 총 개수\n",
    "top_item_sell_total2 = df_sell2.groupby('item')['cost'].sum().sort_values(ascending=False).head(5)\n",
    "sns.barplot(x=top_item_sell_total2.index, y=top_item_sell_total2.values, ax=axes[1], palette='viridis')\n",
    "axes[1].set_xlabel('아이템 개별')\n",
    "axes[1].set_ylabel('총액')\n",
    "axes[1].set_title('개별 판매금액 총액')\n",
    "\n",
    "\n"
   ]
  },
  {
   "cell_type": "markdown",
   "metadata": {},
   "source": [
    "### 판매 합쳐서"
   ]
  },
  {
   "cell_type": "code",
   "execution_count": null,
   "metadata": {},
   "outputs": [
    {
     "data": {
      "text/plain": [
       "2714                                                                                                                                                                Shop >> bangbong0 판매 21x Copper Ingot(Ores.page1.items.7) for 147 with the 판매 gui.\n",
       "2716     Shop >> Install_Roblox 판매 39x Cobbled Deepslate(Blocks.page2.items.89), 63x Redstone(Ores.page1.items.23), 1x Tuff(Blocks.page1.items.12), 7x Rotten Flesh(Mobs.page1.items.15), 3x Gunpowder(Mobs.page1.items.8) for 332.13 with the 판매 gui.\n",
       "2718                                                                                                                               Shop >> bangbong0 판매 2x Arrow(Mobs.page1.items.1), 41x Copper Ingot(Ores.page1.items.7) for 287.60 with the 판매 gui.\n",
       "2721                                                                                                                                                                 Shop >> bangbong0 판매 20x Glow Berries(Food.page1.items.20) for 4 with the 판매 gui.\n",
       "2723                                                                             Shop >> Install_Roblox 판매 158x Cobbled Deepslate(Blocks.page2.items.89), 1x Redstone(Ores.page1.items.23), 37x Tuff(Blocks.page1.items.12) for 50.36 with the 판매 gui.\n",
       "                                                                                                                             ...                                                                                                                      \n",
       "31663                                                                                                                                                             Shop >> biracksickhye 님이 Wheat(Farming.page1.items.28)를 1 만큼 1를 지불해 판매 화면로 판매 하셨습니다.\n",
       "31665                                                                                                                                                             Shop >> biracksickhye 님이 Wheat(Farming.page1.items.28)를 1 만큼 1를 지불해 판매 화면로 판매 하셨습니다.\n",
       "32137                                                                                                                                                     Shop >> whitetomoto 님이 Coal(Ores.page1.items.4)를 66 만큼 330를 지불해 quick sell screen로 판매 하셨습니다.\n",
       "32149                                                                                                                                                                    Shop >> whitetomoto 님이 Bone(Mobs.page1.items.4)를 2 만큼 2를 지불해 판매 화면로 판매 하셨습니다.\n",
       "32593                                                                                                                                                               Shop >> taegyu08 님이 Diamond(Ores.page1.items.9)를 49 만큼 9,800를 지불해 판매 화면로 판매 하셨습니다.\n",
       "Name: Message, Length: 1017, dtype: object"
      ]
     },
     "metadata": {},
     "output_type": "display_data"
    }
   ],
   "source": [
    "df_sell = pd.concat([df_sell1,df_sell2])\n",
    "df_sell['Message']"
   ]
  },
  {
   "cell_type": "code",
   "execution_count": null,
   "metadata": {},
   "outputs": [],
   "source": [
    "df_sell['item'] = df_sell['item'].str.replace(',\\s*', ',', regex=True)\n",
    "df_sell['category'] = df_sell['category'].str.replace(',\\s*', ',', regex=True)"
   ]
  },
  {
   "cell_type": "code",
   "execution_count": null,
   "metadata": {},
   "outputs": [
    {
     "data": {
      "text/html": [
       "<div>\n",
       "<style scoped>\n",
       "    .dataframe tbody tr th:only-of-type {\n",
       "        vertical-align: middle;\n",
       "    }\n",
       "\n",
       "    .dataframe tbody tr th {\n",
       "        vertical-align: top;\n",
       "    }\n",
       "\n",
       "    .dataframe thead th {\n",
       "        text-align: right;\n",
       "    }\n",
       "</style>\n",
       "<table border=\"1\" class=\"dataframe\">\n",
       "  <thead>\n",
       "    <tr style=\"text-align: right;\">\n",
       "      <th></th>\n",
       "      <th>품목</th>\n",
       "      <th>판매량</th>\n",
       "    </tr>\n",
       "  </thead>\n",
       "  <tbody>\n",
       "    <tr>\n",
       "      <th>0</th>\n",
       "      <td>Cobbled Deepslate</td>\n",
       "      <td>102</td>\n",
       "    </tr>\n",
       "    <tr>\n",
       "      <th>1</th>\n",
       "      <td>Netherrack</td>\n",
       "      <td>89</td>\n",
       "    </tr>\n",
       "    <tr>\n",
       "      <th>2</th>\n",
       "      <td>Quartz</td>\n",
       "      <td>72</td>\n",
       "    </tr>\n",
       "    <tr>\n",
       "      <th>3</th>\n",
       "      <td>Rotten Flesh</td>\n",
       "      <td>70</td>\n",
       "    </tr>\n",
       "    <tr>\n",
       "      <th>4</th>\n",
       "      <td>Cobblestone</td>\n",
       "      <td>66</td>\n",
       "    </tr>\n",
       "    <tr>\n",
       "      <th>5</th>\n",
       "      <td>Gravel</td>\n",
       "      <td>63</td>\n",
       "    </tr>\n",
       "    <tr>\n",
       "      <th>6</th>\n",
       "      <td>Emerald Block</td>\n",
       "      <td>63</td>\n",
       "    </tr>\n",
       "    <tr>\n",
       "      <th>7</th>\n",
       "      <td>Tuff</td>\n",
       "      <td>62</td>\n",
       "    </tr>\n",
       "    <tr>\n",
       "      <th>8</th>\n",
       "      <td>Wheat</td>\n",
       "      <td>62</td>\n",
       "    </tr>\n",
       "    <tr>\n",
       "      <th>9</th>\n",
       "      <td>Redstone</td>\n",
       "      <td>61</td>\n",
       "    </tr>\n",
       "  </tbody>\n",
       "</table>\n",
       "</div>"
      ],
      "text/plain": [
       "                  품목  판매량\n",
       "0  Cobbled Deepslate  102\n",
       "1         Netherrack   89\n",
       "2             Quartz   72\n",
       "3       Rotten Flesh   70\n",
       "4        Cobblestone   66\n",
       "5             Gravel   63\n",
       "6      Emerald Block   63\n",
       "7               Tuff   62\n",
       "8              Wheat   62\n",
       "9           Redstone   61"
      ]
     },
     "execution_count": 36,
     "metadata": {},
     "output_type": "execute_result"
    }
   ],
   "source": [
    "# 유저들이 가장 많이 판매하는 상품 \n",
    "all_words = \",\".join(df_sell[\"item\"])\n",
    "word_counts = Counter(all_words.split(','))\n",
    "sell_count =  word_counts.most_common(10)\n",
    "sell_count_data = pd.DataFrame(sell_count, columns=['품목', '판매량'])\n",
    "sell_count_data"
   ]
  },
  {
   "cell_type": "code",
   "execution_count": null,
   "metadata": {},
   "outputs": [
    {
     "data": {
      "text/html": [
       "<div>\n",
       "<style scoped>\n",
       "    .dataframe tbody tr th:only-of-type {\n",
       "        vertical-align: middle;\n",
       "    }\n",
       "\n",
       "    .dataframe tbody tr th {\n",
       "        vertical-align: top;\n",
       "    }\n",
       "\n",
       "    .dataframe thead th {\n",
       "        text-align: right;\n",
       "    }\n",
       "</style>\n",
       "<table border=\"1\" class=\"dataframe\">\n",
       "  <thead>\n",
       "    <tr style=\"text-align: right;\">\n",
       "      <th></th>\n",
       "      <th>카테고리</th>\n",
       "      <th>판매량</th>\n",
       "    </tr>\n",
       "  </thead>\n",
       "  <tbody>\n",
       "    <tr>\n",
       "      <th>0</th>\n",
       "      <td>Blocks</td>\n",
       "      <td>722</td>\n",
       "    </tr>\n",
       "    <tr>\n",
       "      <th>1</th>\n",
       "      <td>Ores</td>\n",
       "      <td>548</td>\n",
       "    </tr>\n",
       "    <tr>\n",
       "      <th>2</th>\n",
       "      <td>Farming</td>\n",
       "      <td>241</td>\n",
       "    </tr>\n",
       "    <tr>\n",
       "      <th>3</th>\n",
       "      <td>Mobs</td>\n",
       "      <td>177</td>\n",
       "    </tr>\n",
       "    <tr>\n",
       "      <th>4</th>\n",
       "      <td>Food</td>\n",
       "      <td>38</td>\n",
       "    </tr>\n",
       "  </tbody>\n",
       "</table>\n",
       "</div>"
      ],
      "text/plain": [
       "      카테고리  판매량\n",
       "0   Blocks  722\n",
       "1     Ores  548\n",
       "2  Farming  241\n",
       "3     Mobs  177\n",
       "4     Food   38"
      ]
     },
     "execution_count": 38,
     "metadata": {},
     "output_type": "execute_result"
    }
   ],
   "source": [
    "# 카테고리별 가장 많이 팔리는 상품\n",
    "all_words = \",\".join(df_sell[\"category\"])\n",
    "word_counts = Counter(all_words.split(','))\n",
    "sell_count =  word_counts.most_common(10)\n",
    "sell_count_data = pd.DataFrame(sell_count, columns=['카테고리', '판매량'])\n",
    "sell_count_data"
   ]
  },
  {
   "cell_type": "markdown",
   "metadata": {},
   "source": [
    "## 채팅 분석"
   ]
  },
  {
   "cell_type": "code",
   "execution_count": null,
   "metadata": {},
   "outputs": [
    {
     "data": {
      "text/plain": [
       "Level\n",
       "Async Chat Thread - #90/INFO     183\n",
       "Async Chat Thread - #39/INFO     105\n",
       "Async Chat Thread - #110/INFO    101\n",
       "Async Chat Thread - #96/INFO      83\n",
       "Async Chat Thread - #111/INFO     81\n",
       "                                ... \n",
       "Async Chat Thread - #151/INFO      1\n",
       "Async Chat Thread - #144/INFO      1\n",
       "Async Chat Thread - #142/INFO      1\n",
       "Async Chat Thread - #140/INFO      1\n",
       "Async Chat Thread - #123/INFO      1\n",
       "Name: count, Length: 168, dtype: int64"
      ]
     },
     "execution_count": 104,
     "metadata": {},
     "output_type": "execute_result"
    }
   ],
   "source": [
    "df_chat = df[df['Level'].str.contains('Async Chat Thread')]\n",
    "df_chat['Level'].value_counts()"
   ]
  },
  {
   "cell_type": "code",
   "execution_count": null,
   "metadata": {},
   "outputs": [],
   "source": [
    "def user_logit(df,lst):\n",
    "    extracted = []\n",
    "    for message in df['Message']:\n",
    "        for ltem in lst:\n",
    "            if ltem in message:\n",
    "                extracted.append(ltem)\n",
    "                break\n",
    "        else:\n",
    "            extracted.append(' ')\n",
    "    df['user'] = extracted \n",
    "user_logit(df_chat,lst)"
   ]
  },
  {
   "cell_type": "code",
   "execution_count": null,
   "metadata": {},
   "outputs": [
    {
     "data": {
      "text/plain": [
       "user\n",
       "Loitec1114       1345\n",
       "WUSUCK            782\n",
       "kjs04             257\n",
       "KDG_04            244\n",
       "biracksickhye     198\n",
       "Name: count, dtype: int64"
      ]
     },
     "execution_count": 151,
     "metadata": {},
     "output_type": "execute_result"
    }
   ],
   "source": [
    "top_chat = df_chat['user'].value_counts().head(5) # 채팅 순위"
   ]
  },
  {
   "cell_type": "code",
   "execution_count": null,
   "metadata": {},
   "outputs": [
    {
     "data": {
      "text/plain": [
       "user\n",
       "Loitec1114       750\n",
       "WUSUCK           745\n",
       "kjs04            257\n",
       "KDG_04           244\n",
       "biracksickhye    181\n",
       "Name: count, dtype: int64"
      ]
     },
     "execution_count": 130,
     "metadata": {},
     "output_type": "execute_result"
    }
   ],
   "source": [
    "df_chat_new = df_chat[df_chat['Message'].str.contains('[뉴비]')]  \n",
    "top_chat_new = df_chat_new['user'].value_counts().head(5) # 뉴비 채팅 순위"
   ]
  },
  {
   "cell_type": "markdown",
   "metadata": {},
   "source": [
    "## 유저 분석"
   ]
  },
  {
   "cell_type": "code",
   "execution_count": null,
   "metadata": {},
   "outputs": [],
   "source": [
    "user_logit(df_buy,lst)\n",
    "user_logit(df_sell,lst)"
   ]
  },
  {
   "cell_type": "code",
   "execution_count": null,
   "metadata": {},
   "outputs": [
    {
     "data": {
      "text/html": [
       "<div>\n",
       "<style scoped>\n",
       "    .dataframe tbody tr th:only-of-type {\n",
       "        vertical-align: middle;\n",
       "    }\n",
       "\n",
       "    .dataframe tbody tr th {\n",
       "        vertical-align: top;\n",
       "    }\n",
       "\n",
       "    .dataframe thead th {\n",
       "        text-align: right;\n",
       "    }\n",
       "</style>\n",
       "<table border=\"1\" class=\"dataframe\">\n",
       "  <thead>\n",
       "    <tr style=\"text-align: right;\">\n",
       "      <th></th>\n",
       "      <th>Timestamp</th>\n",
       "      <th>Message</th>\n",
       "      <th>Item</th>\n",
       "      <th>Count</th>\n",
       "      <th>cost</th>\n",
       "      <th>category</th>\n",
       "      <th>user</th>\n",
       "    </tr>\n",
       "  </thead>\n",
       "  <tbody>\n",
       "    <tr>\n",
       "      <th>2852</th>\n",
       "      <td>00:52:02</td>\n",
       "      <td>Shop &gt;&gt; Install_Roblox 님이 Bone(Mobs.page1.items.4)를 13 만큼 195를 지불해 구입 화면로 구입 하셨습니다.</td>\n",
       "      <td>Bone</td>\n",
       "      <td>13</td>\n",
       "      <td>195</td>\n",
       "      <td>Mobs</td>\n",
       "      <td>Install_Roblox</td>\n",
       "    </tr>\n",
       "    <tr>\n",
       "      <th>3440</th>\n",
       "      <td>10:50:47</td>\n",
       "      <td>Shop &gt;&gt; kjs04 님이 Potato(Farming.page1.items.21)를 17 만큼 85를 지불해 구입 화면로 구입 하셨습니다.</td>\n",
       "      <td>Potato</td>\n",
       "      <td>17</td>\n",
       "      <td>85</td>\n",
       "      <td>Farming</td>\n",
       "      <td>kjs04</td>\n",
       "    </tr>\n",
       "    <tr>\n",
       "      <th>3694</th>\n",
       "      <td>12:56:50</td>\n",
       "      <td>Shop &gt;&gt; kjs04 님이 Warped Slab(Blocks.page5.items.220)를 33 만큼 9.24를 지불해 구입 화면로 구입 하셨습니다.</td>\n",
       "      <td>Warped Slab</td>\n",
       "      <td>33</td>\n",
       "      <td>24</td>\n",
       "      <td>Blocks</td>\n",
       "      <td>kjs04</td>\n",
       "    </tr>\n",
       "    <tr>\n",
       "      <th>3722</th>\n",
       "      <td>13:12:27</td>\n",
       "      <td>Shop &gt;&gt; Install_Roblox 님이 Cobblestone(Blocks.page2.items.54)를 128 만큼 87.04를 지불해 세트 구매 화면로 구입 하셨습니다.</td>\n",
       "      <td>Cobblestone</td>\n",
       "      <td>128</td>\n",
       "      <td>4</td>\n",
       "      <td>Blocks</td>\n",
       "      <td>Install_Roblox</td>\n",
       "    </tr>\n",
       "    <tr>\n",
       "      <th>3728</th>\n",
       "      <td>13:13:11</td>\n",
       "      <td>Shop &gt;&gt; Install_Roblox 님이 Birch Log(Blocks.page4.items.175)를 64 만큼 192를 지불해 세트 구매 화면로 구입 하셨습니다.</td>\n",
       "      <td>Birch Log</td>\n",
       "      <td>64</td>\n",
       "      <td>192</td>\n",
       "      <td>Blocks</td>\n",
       "      <td>Install_Roblox</td>\n",
       "    </tr>\n",
       "  </tbody>\n",
       "</table>\n",
       "</div>"
      ],
      "text/plain": [
       "     Timestamp  \\\n",
       "2852  00:52:02   \n",
       "3440  10:50:47   \n",
       "3694  12:56:50   \n",
       "3722  13:12:27   \n",
       "3728  13:13:11   \n",
       "\n",
       "                                                                                                  Message  \\\n",
       "2852                  Shop >> Install_Roblox 님이 Bone(Mobs.page1.items.4)를 13 만큼 195를 지불해 구입 화면로 구입 하셨습니다.   \n",
       "3440                      Shop >> kjs04 님이 Potato(Farming.page1.items.21)를 17 만큼 85를 지불해 구입 화면로 구입 하셨습니다.   \n",
       "3694               Shop >> kjs04 님이 Warped Slab(Blocks.page5.items.220)를 33 만큼 9.24를 지불해 구입 화면로 구입 하셨습니다.   \n",
       "3722  Shop >> Install_Roblox 님이 Cobblestone(Blocks.page2.items.54)를 128 만큼 87.04를 지불해 세트 구매 화면로 구입 하셨습니다.   \n",
       "3728      Shop >> Install_Roblox 님이 Birch Log(Blocks.page4.items.175)를 64 만큼 192를 지불해 세트 구매 화면로 구입 하셨습니다.   \n",
       "\n",
       "             Item  Count  cost category            user  \n",
       "2852         Bone     13   195     Mobs  Install_Roblox  \n",
       "3440       Potato     17    85  Farming           kjs04  \n",
       "3694  Warped Slab     33    24   Blocks           kjs04  \n",
       "3722  Cobblestone    128     4   Blocks  Install_Roblox  \n",
       "3728    Birch Log     64   192   Blocks  Install_Roblox  "
      ]
     },
     "execution_count": 133,
     "metadata": {},
     "output_type": "execute_result"
    }
   ],
   "source": [
    "df_buy.head()"
   ]
  },
  {
   "cell_type": "code",
   "execution_count": null,
   "metadata": {},
   "outputs": [
    {
     "data": {
      "text/plain": [
       "user\n",
       "KDG_04        33922\n",
       "taegyu08      15743\n",
       "hoyeonn_n      9331\n",
       "kjs04          8984\n",
       "wooin04301     3004\n",
       "Name: cost, dtype: int32"
      ]
     },
     "execution_count": 137,
     "metadata": {},
     "output_type": "execute_result"
    }
   ],
   "source": [
    "df_buy.groupby('user')['cost'].sum().sort_values(ascending=False).head(5) # 유저 구매왕 "
   ]
  },
  {
   "cell_type": "code",
   "execution_count": null,
   "metadata": {},
   "outputs": [
    {
     "data": {
      "text/plain": [
       "user\n",
       "KDG_04       13660\n",
       "taegyu08      4761\n",
       "lmmjvs_       4472\n",
       "hoyeonn_n     2318\n",
       "kjs04         1967\n",
       "Name: Count, dtype: int32"
      ]
     },
     "execution_count": 140,
     "metadata": {},
     "output_type": "execute_result"
    }
   ],
   "source": [
    "df_buy.groupby('user')['Count'].sum().sort_values(ascending=False).head(5) # 유저별 구매상품 개수 순위 "
   ]
  },
  {
   "cell_type": "code",
   "execution_count": null,
   "metadata": {},
   "outputs": [
    {
     "data": {
      "text/plain": [
       "user        category\n",
       "KDG_04      Blocks      12423\n",
       "lmmjvs_     Farming      4288\n",
       "taegyu08    Blocks       3929\n",
       "WUSUCK      Blocks       1896\n",
       "hoyeonn_n   Blocks       1761\n",
       "Rare_fruit  Blocks       1600\n",
       "kjs04       Blocks       1561\n",
       "wooin04301  Blocks       1275\n",
       "KDG_04      Mobs          512\n",
       "            Ores          511\n",
       "Name: Count, dtype: int32"
      ]
     },
     "execution_count": 155,
     "metadata": {},
     "output_type": "execute_result"
    }
   ],
   "source": [
    "df_buy.groupby(['user','category'])['Count'].sum().sort_values(ascending=False).head(10) # 유저별 카테고리 상품을 많이 샀는지 "
   ]
  },
  {
   "cell_type": "code",
   "execution_count": null,
   "metadata": {},
   "outputs": [
    {
     "data": {
      "text/plain": [
       "user        Item                 \n",
       "lmmjvs_     Wheat                    4288\n",
       "KDG_04      Grass Block              2182\n",
       "            Polished Andesite        2112\n",
       "            Light Gray Concrete      1344\n",
       "WUSUCK      Birch Planks             1313\n",
       "Rare_fruit  Polished Granite Slab    1280\n",
       "taegyu08    White Concrete           1088\n",
       "            Stone                    1042\n",
       "hoyeonn_n   Dark Oak Log              838\n",
       "            Oak Log                   706\n",
       "Name: Count, dtype: int32"
      ]
     },
     "execution_count": 157,
     "metadata": {},
     "output_type": "execute_result"
    }
   ],
   "source": [
    "df_buy.groupby(['user','Item'])['Count'].sum().sort_values(ascending=False).head(10) # 유저별 어떤 아이템을 많이 샀는지 "
   ]
  },
  {
   "cell_type": "code",
   "execution_count": null,
   "metadata": {},
   "outputs": [
    {
     "data": {
      "text/plain": [
       "user\n",
       "kjs04              5370751.55\n",
       "KDG_04             1414564.91\n",
       "                    501504.94\n",
       "dkfkqldkdnjsxnf     252000.00\n",
       "dddd                124500.00\n",
       "Name: cost, dtype: float64"
      ]
     },
     "execution_count": 138,
     "metadata": {},
     "output_type": "execute_result"
    }
   ],
   "source": [
    "df_sell.groupby('user')['cost'].sum().sort_values(ascending=False).head(5) # 유저 판매왕"
   ]
  },
  {
   "cell_type": "code",
   "execution_count": null,
   "metadata": {},
   "outputs": [
    {
     "data": {
      "text/plain": [
       "item               user    \n",
       "Copper Block                   36\n",
       "Emerald Block      dkwhwTl     36\n",
       "Cobbled Deepslate              35\n",
       "Wheat              taegyu08    27\n",
       "Redstone Block                 23\n",
       "Name: user, dtype: int64"
      ]
     },
     "execution_count": 179,
     "metadata": {},
     "output_type": "execute_result"
    }
   ],
   "source": [
    "df_sell.groupby(['item','user'])['user'].count().sort_values(ascending=False).head(5) # 아이템별 어떤 유저가 많이 팔았는지"
   ]
  },
  {
   "cell_type": "code",
   "execution_count": null,
   "metadata": {},
   "outputs": [
    {
     "data": {
      "text/plain": [
       "category  user    \n",
       "Blocks                129\n",
       "Ores                  113\n",
       "          taegyu08     81\n",
       "          dkwhwTl      36\n",
       "Farming   taegyu08     31\n",
       "Name: user, dtype: int64"
      ]
     },
     "execution_count": 178,
     "metadata": {},
     "output_type": "execute_result"
    }
   ],
   "source": [
    "df_sell.groupby(['category','user'])['user'].count().sort_values(ascending=False).head(5)"
   ]
  },
  {
   "cell_type": "markdown",
   "metadata": {},
   "source": [
    "## 에러분석"
   ]
  },
  {
   "cell_type": "code",
   "execution_count": null,
   "metadata": {},
   "outputs": [
    {
     "data": {
      "text/plain": [
       "Message\n",
       "kjs04 moved wrongly!                                                                                                                                    161\n",
       "TEST 1 200.0 - 10.0                                                                                                                                      26\n",
       "[!] The timings profiler has been enabled but has been scheduled for removal from Paper in the future.                                                   15\n",
       "[org.bukkit.craftbukkit.v1_20_R2.legacy.CraftLegacy] Initializing Legacy Material Support. Unless you have legacy plugins and/or data this is a bug!     15\n",
       "Legacy plugin DiscordBot v2.0 does not specify an api-version.                                                                                           14\n",
       "                                                                                                                                                       ... \n",
       "wooin04301 moved too quickly! 263.37488196073264,15.0,328.6816236642028                                                                                   1\n",
       "kjs04 moved too quickly! -2742.637505588988,-3.8338907390617862,-2275.0656014779124                                                                       1\n",
       "taegyu08 moved too quickly! -1217.9081201491524,46.5,10.014765144087733                                                                                   1\n",
       "kjs04 moved too quickly! -2742.209706569606,-3.975575911786308,-2274.2445437110855                                                                        1\n",
       "Loitec1114 moved too quickly! -1222.9725118082868,41.0,-61.567419691202076                                                                                1\n",
       "Name: count, Length: 831, dtype: int64"
      ]
     },
     "execution_count": 145,
     "metadata": {},
     "output_type": "execute_result"
    }
   ],
   "source": [
    "df[df['Level']=='Server thread/WARN']['Message'].value_counts()"
   ]
  },
  {
   "cell_type": "code",
   "execution_count": null,
   "metadata": {},
   "outputs": [
    {
     "data": {
      "text/html": [
       "<div>\n",
       "<style scoped>\n",
       "    .dataframe tbody tr th:only-of-type {\n",
       "        vertical-align: middle;\n",
       "    }\n",
       "\n",
       "    .dataframe tbody tr th {\n",
       "        vertical-align: top;\n",
       "    }\n",
       "\n",
       "    .dataframe thead th {\n",
       "        text-align: right;\n",
       "    }\n",
       "</style>\n",
       "<table border=\"1\" class=\"dataframe\">\n",
       "  <thead>\n",
       "    <tr style=\"text-align: right;\">\n",
       "      <th></th>\n",
       "      <th>Timestamp</th>\n",
       "      <th>Level</th>\n",
       "      <th>Message</th>\n",
       "    </tr>\n",
       "  </thead>\n",
       "  <tbody>\n",
       "    <tr>\n",
       "      <th>88</th>\n",
       "      <td>08:14:55</td>\n",
       "      <td>Server thread/INFO</td>\n",
       "      <td>[Towny] Loading server plugin Towny v0.100.0.0</td>\n",
       "    </tr>\n",
       "    <tr>\n",
       "      <th>98</th>\n",
       "      <td>08:14:57</td>\n",
       "      <td>Server thread/INFO</td>\n",
       "      <td>[TownyChat] Loading server plugin TownyChat v0.109</td>\n",
       "    </tr>\n",
       "    <tr>\n",
       "      <th>112</th>\n",
       "      <td>08:14:58</td>\n",
       "      <td>Server thread/INFO</td>\n",
       "      <td>[Dynmap-Towny] Loading server plugin Dynmap-Towny v0.97</td>\n",
       "    </tr>\n",
       "    <tr>\n",
       "      <th>170</th>\n",
       "      <td>08:15:08</td>\n",
       "      <td>Server thread/INFO</td>\n",
       "      <td>[Towny] Enabling Towny v0.100.0.0</td>\n",
       "    </tr>\n",
       "    <tr>\n",
       "      <th>171</th>\n",
       "      <td>08:15:08</td>\n",
       "      <td>Server thread/INFO</td>\n",
       "      <td>====================      Towny      ========================</td>\n",
       "    </tr>\n",
       "    <tr>\n",
       "      <th>...</th>\n",
       "      <td>...</td>\n",
       "      <td>...</td>\n",
       "      <td>...</td>\n",
       "    </tr>\n",
       "    <tr>\n",
       "      <th>30221</th>\n",
       "      <td>14:33:58</td>\n",
       "      <td>Folia Async Scheduler Thread #287/INFO</td>\n",
       "      <td>[Towny] [Town Msg] tanker: chuzzang님이 2000원을/를 마을 은행으로 입금했습니다.</td>\n",
       "    </tr>\n",
       "    <tr>\n",
       "      <th>30302</th>\n",
       "      <td>14:48:26</td>\n",
       "      <td>Folia Async Scheduler Thread #293/INFO</td>\n",
       "      <td>[Towny] [Town Msg] tanker: chuzzang님이 500원을/를 마을 은행으로 입금했습니다.</td>\n",
       "    </tr>\n",
       "    <tr>\n",
       "      <th>32007</th>\n",
       "      <td>22:03:40</td>\n",
       "      <td>Folia Async Scheduler Thread #524/INFO</td>\n",
       "      <td>[Towny] [Town Msg] 크리스탈: WUSUCK님이 300원을/를 마을 은행으로 입금했습니다.</td>\n",
       "    </tr>\n",
       "    <tr>\n",
       "      <th>32637</th>\n",
       "      <td>23:31:41</td>\n",
       "      <td>Server thread/INFO</td>\n",
       "      <td>[Towny] [Town Msg] 크리스탈: WUSUCK님이 Arangcho님을 도시에 초대하였습니다.</td>\n",
       "    </tr>\n",
       "    <tr>\n",
       "      <th>32639</th>\n",
       "      <td>23:31:50</td>\n",
       "      <td>Server thread/INFO</td>\n",
       "      <td>[Towny] [Town Msg] 크리스탈: Arangcho님이 도시에 합류하였습니다!</td>\n",
       "    </tr>\n",
       "  </tbody>\n",
       "</table>\n",
       "<p>1133 rows × 3 columns</p>\n",
       "</div>"
      ],
      "text/plain": [
       "      Timestamp                                   Level  \\\n",
       "88     08:14:55                      Server thread/INFO   \n",
       "98     08:14:57                      Server thread/INFO   \n",
       "112    08:14:58                      Server thread/INFO   \n",
       "170    08:15:08                      Server thread/INFO   \n",
       "171    08:15:08                      Server thread/INFO   \n",
       "...         ...                                     ...   \n",
       "30221  14:33:58  Folia Async Scheduler Thread #287/INFO   \n",
       "30302  14:48:26  Folia Async Scheduler Thread #293/INFO   \n",
       "32007  22:03:40  Folia Async Scheduler Thread #524/INFO   \n",
       "32637  23:31:41                      Server thread/INFO   \n",
       "32639  23:31:50                      Server thread/INFO   \n",
       "\n",
       "                                                              Message  \n",
       "88                     [Towny] Loading server plugin Towny v0.100.0.0  \n",
       "98                 [TownyChat] Loading server plugin TownyChat v0.109  \n",
       "112           [Dynmap-Towny] Loading server plugin Dynmap-Towny v0.97  \n",
       "170                                 [Towny] Enabling Towny v0.100.0.0  \n",
       "171     ====================      Towny      ========================  \n",
       "...                                                               ...  \n",
       "30221  [Towny] [Town Msg] tanker: chuzzang님이 2000원을/를 마을 은행으로 입금했습니다.  \n",
       "30302   [Towny] [Town Msg] tanker: chuzzang님이 500원을/를 마을 은행으로 입금했습니다.  \n",
       "32007       [Towny] [Town Msg] 크리스탈: WUSUCK님이 300원을/를 마을 은행으로 입금했습니다.  \n",
       "32637       [Towny] [Town Msg] 크리스탈: WUSUCK님이 Arangcho님을 도시에 초대하였습니다.  \n",
       "32639                [Towny] [Town Msg] 크리스탈: Arangcho님이 도시에 합류하였습니다!  \n",
       "\n",
       "[1133 rows x 3 columns]"
      ]
     },
     "execution_count": 150,
     "metadata": {},
     "output_type": "execute_result"
    }
   ],
   "source": [
    "df[df['Message'].str.contains('Towny')]"
   ]
  },
  {
   "cell_type": "markdown",
   "metadata": {},
   "source": [
    "## 토픽 모델링을 위함"
   ]
  },
  {
   "cell_type": "code",
   "execution_count": null,
   "metadata": {},
   "outputs": [],
   "source": []
  },
  {
   "cell_type": "code",
   "execution_count": null,
   "metadata": {},
   "outputs": [],
   "source": []
  }
 ],
 "metadata": {
  "kernelspec": {
   "display_name": "dtest",
   "language": "python",
   "name": "python3"
  },
  "language_info": {
   "codemirror_mode": {
    "name": "ipython",
    "version": 3
   },
   "file_extension": ".py",
   "mimetype": "text/x-python",
   "name": "python",
   "nbconvert_exporter": "python",
   "pygments_lexer": "ipython3",
   "version": "3.11.6"
  }
 },
 "nbformat": 4,
 "nbformat_minor": 2
}
